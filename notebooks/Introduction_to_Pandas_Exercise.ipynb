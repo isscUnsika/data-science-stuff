{
  "nbformat": 4,
  "nbformat_minor": 0,
  "metadata": {
    "colab": {
      "name": "Introduction to Pandas - Exercise.ipynb",
      "provenance": [],
      "collapsed_sections": [],
      "toc_visible": true
    },
    "kernelspec": {
      "display_name": "Python 3",
      "name": "python3"
    }
  },
  "cells": [
    {
      "cell_type": "markdown",
      "metadata": {
        "id": "J2a8KT0jNMrt"
      },
      "source": [
        "####Copyright 2020 Google LLC."
      ]
    },
    {
      "cell_type": "code",
      "metadata": {
        "id": "5i5kL8_wNNvo"
      },
      "source": [
        "# Licensed under the Apache License, Version 2.0 (the \"License\");\n",
        "# you may not use this file except in compliance with the License.\n",
        "# You may obtain a copy of the License at\n",
        "#\n",
        "# https://www.apache.org/licenses/LICENSE-2.0\n",
        "#\n",
        "# Unless required by applicable law or agreed to in writing, software\n",
        "# distributed under the License is distributed on an \"AS IS\" BASIS,\n",
        "# WITHOUT WARRANTIES OR CONDITIONS OF ANY KIND, either express or implied.\n",
        "# See the License for the specific language governing permissions and\n",
        "# limitations under the License."
      ],
      "execution_count": null,
      "outputs": []
    },
    {
      "cell_type": "markdown",
      "metadata": {
        "id": "4b6a60p_OCiW"
      },
      "source": [
        "# Introduction to Pandas\n",
        "\n",
        "[Pandas](https://pandas.pydata.org/) is an open-source library for data analysis and manipulation. It is a go-to toolkit for data scientists and is used extensively in this course.\n",
        "\n",
        "Pandas integrates seamlessly with other Python libraries such as [NumPy](http://www.numpy.org) and [Matplotlib](http://www.matplotlib.org) for numeric processing and visualizations.\n",
        "\n",
        "When using Pandas, we will primarily interact with [DataFrames](https://pandas.pydata.org/pandas-docs/stable/reference/api/pandas.DataFrame.html) and [Series](https://pandas.pydata.org/pandas-docs/stable/reference/series.html), which we will introduce in this lab."
      ]
    },
    {
      "cell_type": "markdown",
      "metadata": {
        "id": "vkjMnw7c7WTc"
      },
      "source": [
        "## Importing Pandas\n",
        "\n",
        "In order to use Pandas, you must import it. This is as simple as:\n",
        "\n",
        "```python\n",
        "import pandas\n",
        "```\n",
        "\n",
        "However, you'll rarely see Pandas imported this way. By convention programmers rename Pandas to `pd`. This isn't a requirement, but it is a pattern that you'll see repeated often.\n",
        "\n",
        "To import Pandas in the conventional manner run the code block below."
      ]
    },
    {
      "cell_type": "code",
      "metadata": {
        "id": "t_i-rT9N8Iou",
        "colab": {
          "base_uri": "https://localhost:8080/",
          "height": 35
        },
        "outputId": "ea73c492-2905-4cab-9091-ddb51add6713"
      },
      "source": [
        "import pandas as pd\n",
        "\n",
        "pd.__version__"
      ],
      "execution_count": null,
      "outputs": [
        {
          "output_type": "execute_result",
          "data": {
            "application/vnd.google.colaboratory.intrinsic+json": {
              "type": "string"
            },
            "text/plain": [
              "'1.1.5'"
            ]
          },
          "metadata": {
            "tags": []
          },
          "execution_count": 1
        }
      ]
    },
    {
      "cell_type": "markdown",
      "metadata": {
        "id": "C07_w8VL8l_J"
      },
      "source": [
        "After importing Pandas as `pd` we can use pandas by calling methods provided by `pd`. In the code block above we printed the Pandas version.\n",
        "\n",
        "Pandas went 1.0.0 on January 29, 2020. The interface should stay relatively stable until a 2.0.0 release is declared sometime in the future. If you ever have a problem where a Pandas function isn't acting the way you think it should, be sure to check out which version you are using and find the documentation for that specific version."
      ]
    },
    {
      "cell_type": "markdown",
      "metadata": {
        "id": "6Lde64-x9QX5"
      },
      "source": [
        "## Pandas Series"
      ]
    },
    {
      "cell_type": "markdown",
      "metadata": {
        "id": "3z9fwxzVHDBp"
      },
      "source": [
        "A [Series](https://pandas.pydata.org/pandas-docs/stable/reference/series.html) represents a sequential list of data. It is a foundational building block of the powerful [DataFrame](https://pandas.pydata.org/pandas-docs/stable/reference/api/pandas.DataFrame.html) that we'll cover later in this lab."
      ]
    },
    {
      "cell_type": "markdown",
      "metadata": {
        "id": "-oAlhrAG9lc6"
      },
      "source": [
        "### Creating a Series\n",
        "\n",
        "We create a new `Series` object as we would any Python object:\n",
        "\n",
        "```python\n",
        "s = pd.Series()\n",
        "```\n",
        "\n",
        "This creates a new, empty `Series` object, which isn't very interesting. You can create a series object with data by passing it a list or tuple:"
      ]
    },
    {
      "cell_type": "code",
      "metadata": {
        "id": "7vXrfIIJ9ocv",
        "colab": {
          "base_uri": "https://localhost:8080/"
        },
        "outputId": "738cea87-e45c-4565-dece-3c2d790471ef"
      },
      "source": [
        "temperatures = [55, 63, 72, 65, 63, 75, 67, 59, 82, 54]\n",
        "\n",
        "series = pd.Series(temperatures)\n",
        "\n",
        "print(type(series))\n",
        "print(series)"
      ],
      "execution_count": null,
      "outputs": [
        {
          "output_type": "stream",
          "text": [
            "<class 'pandas.core.series.Series'>\n",
            "0    55\n",
            "1    63\n",
            "2    72\n",
            "3    65\n",
            "4    63\n",
            "5    75\n",
            "6    67\n",
            "7    59\n",
            "8    82\n",
            "9    54\n",
            "dtype: int64\n"
          ],
          "name": "stdout"
        }
      ]
    },
    {
      "cell_type": "markdown",
      "metadata": {
        "id": "grcARA89-4BI"
      },
      "source": [
        "Here we created a new `pandas.core.series.Series` object with ten values presumably representing some temperature measurement."
      ]
    },
    {
      "cell_type": "markdown",
      "metadata": {
        "id": "N13kNb0m_T3t"
      },
      "source": [
        "### Analyzing a Series\n",
        "\n",
        "You can ask the series to compute information about itself. The `describe()` method provides statistics about the series."
      ]
    },
    {
      "cell_type": "code",
      "metadata": {
        "id": "b3sVqlhj_M61",
        "colab": {
          "base_uri": "https://localhost:8080/"
        },
        "outputId": "649a9317-3586-41fd-fc4f-a2c7d4c87ca4"
      },
      "source": [
        "series.describe()"
      ],
      "execution_count": null,
      "outputs": [
        {
          "output_type": "execute_result",
          "data": {
            "text/plain": [
              "count    10.000000\n",
              "mean     65.500000\n",
              "std       8.847473\n",
              "min      54.000000\n",
              "25%      60.000000\n",
              "50%      64.000000\n",
              "75%      70.750000\n",
              "max      82.000000\n",
              "dtype: float64"
            ]
          },
          "metadata": {
            "tags": []
          },
          "execution_count": 3
        }
      ]
    },
    {
      "cell_type": "markdown",
      "metadata": {
        "id": "v3POByAk_1U2"
      },
      "source": [
        "You can also find other information about a `Series` such as if its values are all unique:"
      ]
    },
    {
      "cell_type": "code",
      "metadata": {
        "id": "bYppQOdnADYw",
        "colab": {
          "base_uri": "https://localhost:8080/"
        },
        "outputId": "7cdc80f1-1985-4cd0-ca8d-1df3ff642324"
      },
      "source": [
        "series.is_unique"
      ],
      "execution_count": null,
      "outputs": [
        {
          "output_type": "execute_result",
          "data": {
            "text/plain": [
              "False"
            ]
          },
          "metadata": {
            "tags": []
          },
          "execution_count": 4
        }
      ]
    },
    {
      "cell_type": "markdown",
      "metadata": {
        "id": "dnf7A_IyAJ-o"
      },
      "source": [
        "Or if it is monotonically increasing or decreasing:"
      ]
    },
    {
      "cell_type": "code",
      "metadata": {
        "id": "nwnBtvZvAOk8",
        "colab": {
          "base_uri": "https://localhost:8080/"
        },
        "outputId": "ca57d771-b013-4ef8-c7b8-45e8b075ecf8"
      },
      "source": [
        "print(series.is_monotonic)"
      ],
      "execution_count": null,
      "outputs": [
        {
          "output_type": "stream",
          "text": [
            "False\n"
          ],
          "name": "stdout"
        }
      ]
    },
    {
      "cell_type": "markdown",
      "metadata": {
        "id": "kyc0HP_eAZ9q"
      },
      "source": [
        "#### Exercise 1: Standard Deviation\n",
        "\n",
        "Create a series using the list of values provided below. Then, using a function in the [Series](https://pandas.pydata.org/pandas-docs/stable/reference/series.html) class, find the standard deviation of the values in that series and store it in the variable `std_dev`."
      ]
    },
    {
      "cell_type": "markdown",
      "metadata": {
        "id": "s_8aPljkA_Om"
      },
      "source": [
        "**Student Solution**"
      ]
    },
    {
      "cell_type": "code",
      "metadata": {
        "id": "HQ430Um3BBXE"
      },
      "source": [
        "#Your Code Here"
      ],
      "execution_count": 1,
      "outputs": []
    },
    {
      "cell_type": "markdown",
      "metadata": {
        "id": "bJELcyz-7kXH"
      },
      "source": [
        "---"
      ]
    },
    {
      "cell_type": "markdown",
      "metadata": {
        "id": "4icP6JbDB8Iy"
      },
      "source": [
        "### Accessing Values\n",
        "\n",
        "Let's take another look at the first series that we created in this lab:"
      ]
    },
    {
      "cell_type": "code",
      "metadata": {
        "id": "EIsjHq0LCTBi",
        "colab": {
          "base_uri": "https://localhost:8080/"
        },
        "outputId": "525d59b0-fc5c-404b-e691-f746940eac7d"
      },
      "source": [
        "temperatures = [55, 63, 72, 65, 63, 75, 67, 59, 82, 54]\n",
        "\n",
        "series = pd.Series(temperatures)\n",
        "\n",
        "print(type(series))\n",
        "print(series)"
      ],
      "execution_count": null,
      "outputs": [
        {
          "output_type": "stream",
          "text": [
            "<class 'pandas.core.series.Series'>\n",
            "0    55\n",
            "1    63\n",
            "2    72\n",
            "3    65\n",
            "4    63\n",
            "5    75\n",
            "6    67\n",
            "7    59\n",
            "8    82\n",
            "9    54\n",
            "dtype: int64\n"
          ],
          "name": "stdout"
        }
      ]
    },
    {
      "cell_type": "markdown",
      "metadata": {
        "id": "-Az7xR9eCYgD"
      },
      "source": [
        "We can see the values printed down the right-side column. But what are those numbers along the left?\n",
        "\n",
        "They are **indices**.\n",
        "\n",
        "You are probably thinking that `Series` objects feel a whole lot like lists, tuples, and `NumPy` arrays. If so, you are correct.\n",
        "\n",
        "They are very similar to these other sequential data structures, and individual items in a series can be accessed by index as expected."
      ]
    },
    {
      "cell_type": "code",
      "metadata": {
        "id": "5fIJthCqCyhg",
        "colab": {
          "base_uri": "https://localhost:8080/"
        },
        "outputId": "45468705-0121-46dd-f9ed-7038bd32ad48"
      },
      "source": [
        "series[4]"
      ],
      "execution_count": null,
      "outputs": [
        {
          "output_type": "execute_result",
          "data": {
            "text/plain": [
              "63"
            ]
          },
          "metadata": {
            "tags": []
          },
          "execution_count": 10
        }
      ]
    },
    {
      "cell_type": "markdown",
      "metadata": {
        "id": "uQ25ozJdEfIf"
      },
      "source": [
        "You can also loop over the values in a `Series`."
      ]
    },
    {
      "cell_type": "code",
      "metadata": {
        "id": "cbvHuOQrEaSo",
        "colab": {
          "base_uri": "https://localhost:8080/"
        },
        "outputId": "0c894340-6f1e-47ab-e85d-6d25a9b29cd3"
      },
      "source": [
        "for temp in series:\n",
        "  print(temp)"
      ],
      "execution_count": null,
      "outputs": [
        {
          "output_type": "stream",
          "text": [
            "55\n",
            "63\n",
            "72\n",
            "65\n",
            "63\n",
            "75\n",
            "67\n",
            "59\n",
            "82\n",
            "54\n"
          ],
          "name": "stdout"
        }
      ]
    },
    {
      "cell_type": "markdown",
      "metadata": {
        "id": "1LzL_Fd3GE44"
      },
      "source": [
        "### Modifying Values"
      ]
    },
    {
      "cell_type": "markdown",
      "metadata": {
        "id": "GOY4ZG8pCx1J"
      },
      "source": [
        "Series are mutable, so you can modify individual values."
      ]
    },
    {
      "cell_type": "code",
      "metadata": {
        "id": "VChNSnoiE7Ou",
        "colab": {
          "base_uri": "https://localhost:8080/"
        },
        "outputId": "c27ba7cb-1a33-4439-c55f-2a358fb36c5a"
      },
      "source": [
        "temperatures = [55, 63, 72, 65, 63, 75, 67, 59, 82, 54]\n",
        "series = pd.Series(temperatures)\n",
        "\n",
        "print(series[1])\n",
        "\n",
        "series[1] = 65\n",
        "\n",
        "print(series[1])"
      ],
      "execution_count": null,
      "outputs": [
        {
          "output_type": "stream",
          "text": [
            "63\n",
            "65\n"
          ],
          "name": "stdout"
        }
      ]
    },
    {
      "cell_type": "markdown",
      "metadata": {
        "id": "NsJ3RQgZSrmV"
      },
      "source": [
        "You can also modify all of the elements in a series using standard Python expressions. For instance, if we wanted to add `1` to every item in a series, we can just do:"
      ]
    },
    {
      "cell_type": "code",
      "metadata": {
        "id": "e3ebIBLBS2qM",
        "colab": {
          "base_uri": "https://localhost:8080/"
        },
        "outputId": "a85da0e2-c2d3-4720-fb53-507bd0beb6d9"
      },
      "source": [
        "series + 1"
      ],
      "execution_count": null,
      "outputs": [
        {
          "output_type": "execute_result",
          "data": {
            "text/plain": [
              "0    56\n",
              "1    66\n",
              "2    73\n",
              "3    66\n",
              "4    64\n",
              "5    76\n",
              "6    68\n",
              "7    60\n",
              "8    83\n",
              "9    55\n",
              "dtype: int64"
            ]
          },
          "metadata": {
            "tags": []
          },
          "execution_count": 13
        }
      ]
    },
    {
      "cell_type": "markdown",
      "metadata": {
        "id": "PYL0lCxLS53k"
      },
      "source": [
        "Note that this doesn't actually change the `Series` though. To do that we need to assign the computation back to our original series.\n",
        "\n",
        "More operations than addition can be applied. You can add, subtract, multiple, divide, and more with a simple Python expression."
      ]
    },
    {
      "cell_type": "code",
      "metadata": {
        "id": "1AAsYHEiTBfH"
      },
      "source": [
        "series = series + 1"
      ],
      "execution_count": null,
      "outputs": []
    },
    {
      "cell_type": "markdown",
      "metadata": {
        "id": "O_CCr4BBGo3e"
      },
      "source": [
        "You can remove values from the series by index using `pop`:\n"
      ]
    },
    {
      "cell_type": "code",
      "metadata": {
        "id": "Lib564--GsbO",
        "colab": {
          "base_uri": "https://localhost:8080/"
        },
        "outputId": "3c0dde27-5501-4db0-97c1-58aa1797b35d"
      },
      "source": [
        "temperatures = [55, 63, 72, 65, 63, 75, 67, 59, 82, 54]\n",
        "series = pd.Series(temperatures)\n",
        "\n",
        "print(series)\n",
        "\n",
        "series.pop(4)\n",
        "\n",
        "print(series)"
      ],
      "execution_count": null,
      "outputs": [
        {
          "output_type": "stream",
          "text": [
            "0    55\n",
            "1    63\n",
            "2    72\n",
            "3    65\n",
            "4    63\n",
            "5    75\n",
            "6    67\n",
            "7    59\n",
            "8    82\n",
            "9    54\n",
            "dtype: int64\n",
            "0    55\n",
            "1    63\n",
            "2    72\n",
            "3    65\n",
            "5    75\n",
            "6    67\n",
            "7    59\n",
            "8    82\n",
            "9    54\n",
            "dtype: int64\n"
          ],
          "name": "stdout"
        }
      ]
    },
    {
      "cell_type": "markdown",
      "metadata": {
        "id": "_wAoxGO2Id-t"
      },
      "source": [
        "Notice that when we print the series out a second time, the index with value `4` is missing. After we pop the value out, the index is no longer valid to access!"
      ]
    },
    {
      "cell_type": "code",
      "metadata": {
        "id": "UG967A4PIXLi",
        "colab": {
          "base_uri": "https://localhost:8080/"
        },
        "outputId": "7b431436-90ae-4f3d-ddd6-92dbbfcc46de"
      },
      "source": [
        "try:\n",
        "  print(series[4])\n",
        "except:\n",
        "  print('Unable to print the value at index 4')"
      ],
      "execution_count": null,
      "outputs": [
        {
          "output_type": "stream",
          "text": [
            "Unable to print the value at index 4\n"
          ],
          "name": "stdout"
        }
      ]
    },
    {
      "cell_type": "markdown",
      "metadata": {
        "id": "rDGbTJZ6R4HK"
      },
      "source": [
        "In order to get the indices back into a smooth sequential order, we can call the `reset_index` function. We pass the argument `drop=True` to tell Pandas *not* to save the old index as a new column. We pass the argument `inplace=True` to tell Pandas to modify the series directly instead of making a copy. "
      ]
    },
    {
      "cell_type": "code",
      "metadata": {
        "id": "3pNFx47CQ9QT",
        "colab": {
          "base_uri": "https://localhost:8080/"
        },
        "outputId": "df37c08b-bba7-4fe6-812e-d3b0d0c410ce"
      },
      "source": [
        "series.reset_index(drop=True, inplace=True)\n",
        "series"
      ],
      "execution_count": null,
      "outputs": [
        {
          "output_type": "execute_result",
          "data": {
            "text/plain": [
              "0    55\n",
              "1    63\n",
              "2    72\n",
              "3    65\n",
              "4    75\n",
              "5    67\n",
              "6    59\n",
              "7    82\n",
              "8    54\n",
              "dtype: int64"
            ]
          },
          "metadata": {
            "tags": []
          },
          "execution_count": 17
        }
      ]
    },
    {
      "cell_type": "markdown",
      "metadata": {
        "id": "nBdi6PqrizOF"
      },
      "source": [
        "This is very different from what we would expect from a normal Python list! While it is possible to use `pop` on a list, the indices will automatically reset."
      ]
    },
    {
      "cell_type": "code",
      "metadata": {
        "id": "wljBRcPCikxQ",
        "colab": {
          "base_uri": "https://localhost:8080/"
        },
        "outputId": "162c5ea1-bdb2-45be-91ef-587ef2882f1a"
      },
      "source": [
        "temperatures = [55, 63, 72, 65, 63, 75, 67, 59, 82, 54]\n",
        "\n",
        "print(temperatures)\n",
        "\n",
        "temperatures.pop(4)\n",
        "\n",
        "print(temperatures[4])"
      ],
      "execution_count": null,
      "outputs": [
        {
          "output_type": "stream",
          "text": [
            "[55, 63, 72, 65, 63, 75, 67, 59, 82, 54]\n",
            "75\n"
          ],
          "name": "stdout"
        }
      ]
    },
    {
      "cell_type": "markdown",
      "metadata": {
        "id": "xPXWRLqIHNk9"
      },
      "source": [
        "You can also add values to a `Series` by appending another `Series` to it. We pass the argument `ignore_index=True` to tell Pandas to append the values with new indices, rather than copying over the old indices of the appended values. In this case, that means the new values (`66` and `74`) get the indices `10` and `11`, rather than `0` and `1`:"
      ]
    },
    {
      "cell_type": "code",
      "metadata": {
        "id": "s_VBjALUHWlr",
        "colab": {
          "base_uri": "https://localhost:8080/"
        },
        "outputId": "96033eb3-f7a4-4f9a-f119-9000aebe7e0b"
      },
      "source": [
        "temperatures = [55, 63, 72, 65, 63, 75, 67, 59, 82, 54]\n",
        "series = pd.Series(temperatures)\n",
        "\n",
        "print(series)\n",
        "\n",
        "new_series = pd.Series([66, 74])\n",
        "series = series.append(new_series, ignore_index=True)\n",
        "\n",
        "print(series)"
      ],
      "execution_count": null,
      "outputs": [
        {
          "output_type": "stream",
          "text": [
            "0    55\n",
            "1    63\n",
            "2    72\n",
            "3    65\n",
            "4    63\n",
            "5    75\n",
            "6    67\n",
            "7    59\n",
            "8    82\n",
            "9    54\n",
            "dtype: int64\n",
            "0     55\n",
            "1     63\n",
            "2     72\n",
            "3     65\n",
            "4     63\n",
            "5     75\n",
            "6     67\n",
            "7     59\n",
            "8     82\n",
            "9     54\n",
            "10    66\n",
            "11    74\n",
            "dtype: int64\n"
          ],
          "name": "stdout"
        }
      ]
    },
    {
      "cell_type": "markdown",
      "metadata": {
        "id": "nnnkyznaET1H"
      },
      "source": [
        "#### Exercise 2: Sorting a Series\n",
        "\n",
        "Find the correct method in the [Series documentation](https://pandas.pydata.org/pandas-docs/stable/reference/api/pandas.Series.html) to sort the values in `series` in ascending order. Be sure the indices are also sorted and that the new sorted series is stored in the `series` variable."
      ]
    },
    {
      "cell_type": "markdown",
      "metadata": {
        "id": "llEvrONtFSg5"
      },
      "source": [
        "**Student Solution**"
      ]
    },
    {
      "cell_type": "code",
      "metadata": {
        "id": "0Iy_JGihEeQU"
      },
      "source": [
        "\n",
        "\n",
        "# Your code goes here.\n",
        "\n"
      ],
      "execution_count": 2,
      "outputs": []
    },
    {
      "cell_type": "markdown",
      "metadata": {
        "id": "z1CZZGSYGG_B"
      },
      "source": [
        "---"
      ]
    },
    {
      "cell_type": "markdown",
      "metadata": {
        "id": "DluyH3N3tyPE"
      },
      "source": [
        "## Pandas DataFrame"
      ]
    },
    {
      "cell_type": "markdown",
      "metadata": {
        "id": "DN1Efp21HO6u"
      },
      "source": [
        "Now that we have a basic understanding of `Series`, let's dive into the [DataFrame](https://pandas.pydata.org/pandas-docs/stable/reference/api/pandas.DataFrame.html). If you picture `Series` as a *list* of data, you can think of `DataFrame` as a *table* of data.\n",
        "\n",
        "A `DataFrame` consists of one or more `Series` presented in a tabular format. Each `Series` in the `DataFrame` is a column."
      ]
    },
    {
      "cell_type": "markdown",
      "metadata": {
        "id": "16datPOKIC9p"
      },
      "source": [
        "### Creating a DataFrame"
      ]
    },
    {
      "cell_type": "markdown",
      "metadata": {
        "id": "pYTSLBdEAuau"
      },
      "source": [
        "We can create an empty `DataFrame` using the `DataFrame` class in Pandas:\n",
        "\n",
        "```python\n",
        "df = pd.DataFrame()\n",
        "```\n",
        "\n",
        "But an empty `DataFrame` isn't particularly exciting. Instead, let's create a `DataFrame` using a few series.\n",
        "\n",
        "In the code block below you'll see that we have three series:\n",
        "\n",
        "1. Cities\n",
        "1. Populations of those cities\n",
        "1. Number of airports in those cities\n"
      ]
    },
    {
      "cell_type": "code",
      "metadata": {
        "id": "hErWNo6RS0-N",
        "colab": {
          "base_uri": "https://localhost:8080/"
        },
        "outputId": "21149c3d-2a70-4c4a-af0a-90d520b20d4f"
      },
      "source": [
        "city_names = pd.Series([\n",
        "  'Atlanta', \n",
        "  'Austin', \n",
        "  'Kansas City',\n",
        "  'New York City', \n",
        "  'Portland', \n",
        "  'San Francisco', \n",
        "  'Seattle',\n",
        "])\n",
        "\n",
        "population = pd.Series([\n",
        "  498044,\n",
        "  964254,\n",
        "  491918,\n",
        "  8398748,\n",
        "  653115,\n",
        "  883305, \n",
        "  744955,\n",
        "])\n",
        "\n",
        "num_airports = pd.Series([\n",
        "  2,\n",
        "  2,\n",
        "  8,\n",
        "  3,\n",
        "  1,\n",
        "  3,\n",
        "  2,\n",
        "])\n",
        "\n",
        "print(city_names, population, num_airports)"
      ],
      "execution_count": null,
      "outputs": [
        {
          "output_type": "stream",
          "text": [
            "0          Atlanta\n",
            "1           Austin\n",
            "2      Kansas City\n",
            "3    New York City\n",
            "4         Portland\n",
            "5    San Francisco\n",
            "6          Seattle\n",
            "dtype: object 0     498044\n",
            "1     964254\n",
            "2     491918\n",
            "3    8398748\n",
            "4     653115\n",
            "5     883305\n",
            "6     744955\n",
            "dtype: int64 0    2\n",
            "1    2\n",
            "2    8\n",
            "3    3\n",
            "4    1\n",
            "5    3\n",
            "6    2\n",
            "dtype: int64\n"
          ],
          "name": "stdout"
        }
      ]
    },
    {
      "cell_type": "markdown",
      "metadata": {
        "id": "_weonc5sL2eB"
      },
      "source": [
        "We can now combine these series into a `DataFrame`, using a dictionary with keys as the column names and values as the series:"
      ]
    },
    {
      "cell_type": "code",
      "metadata": {
        "id": "HOTQnmJjL_qI",
        "colab": {
          "base_uri": "https://localhost:8080/"
        },
        "outputId": "570458af-96e2-4936-9ce8-02f1ffc77397"
      },
      "source": [
        "df = pd.DataFrame({\n",
        "  'City Name': city_names,\n",
        "  'Population': population, \n",
        "  'Airports': num_airports,\n",
        "})\n",
        "\n",
        "print(df)"
      ],
      "execution_count": null,
      "outputs": [
        {
          "output_type": "stream",
          "text": [
            "       City Name  Population  Airports\n",
            "0        Atlanta      498044         2\n",
            "1         Austin      964254         2\n",
            "2    Kansas City      491918         8\n",
            "3  New York City     8398748         3\n",
            "4       Portland      653115         1\n",
            "5  San Francisco      883305         3\n",
            "6        Seattle      744955         2\n"
          ],
          "name": "stdout"
        }
      ]
    },
    {
      "cell_type": "markdown",
      "metadata": {
        "id": "G6XEeFU7MN-J"
      },
      "source": [
        "The data is now displayed in a tabular format. We can see that there are three columns: `City Name`, `Population`, and `Airports`. There are six rows, each row representing the data for a single city."
      ]
    },
    {
      "cell_type": "markdown",
      "metadata": {
        "id": "jMCslIbiMfDB"
      },
      "source": [
        "In the block above we used the `print` function to display the `DataFrame`, which printed out the data in a plain text form. Colab and other notebook environments can \"pretty print\" DataFrames if you make it the last part of a code block and don't wrap the variable in a `print` statement. Run the code block below to see this in action."
      ]
    },
    {
      "cell_type": "code",
      "metadata": {
        "id": "C0VbODk7M3NL",
        "colab": {
          "base_uri": "https://localhost:8080/",
          "height": 266
        },
        "outputId": "e2f86431-c3e8-4cf3-a0a9-c0d8cc191f77"
      },
      "source": [
        "df = pd.DataFrame({\n",
        "  'City Name': city_names,\n",
        "  'Population': population, \n",
        "  'Airports': num_airports,\n",
        "})\n",
        "\n",
        "df"
      ],
      "execution_count": null,
      "outputs": [
        {
          "output_type": "execute_result",
          "data": {
            "text/html": [
              "<div>\n",
              "<style scoped>\n",
              "    .dataframe tbody tr th:only-of-type {\n",
              "        vertical-align: middle;\n",
              "    }\n",
              "\n",
              "    .dataframe tbody tr th {\n",
              "        vertical-align: top;\n",
              "    }\n",
              "\n",
              "    .dataframe thead th {\n",
              "        text-align: right;\n",
              "    }\n",
              "</style>\n",
              "<table border=\"1\" class=\"dataframe\">\n",
              "  <thead>\n",
              "    <tr style=\"text-align: right;\">\n",
              "      <th></th>\n",
              "      <th>City Name</th>\n",
              "      <th>Population</th>\n",
              "      <th>Airports</th>\n",
              "    </tr>\n",
              "  </thead>\n",
              "  <tbody>\n",
              "    <tr>\n",
              "      <th>0</th>\n",
              "      <td>Atlanta</td>\n",
              "      <td>498044</td>\n",
              "      <td>2</td>\n",
              "    </tr>\n",
              "    <tr>\n",
              "      <th>1</th>\n",
              "      <td>Austin</td>\n",
              "      <td>964254</td>\n",
              "      <td>2</td>\n",
              "    </tr>\n",
              "    <tr>\n",
              "      <th>2</th>\n",
              "      <td>Kansas City</td>\n",
              "      <td>491918</td>\n",
              "      <td>8</td>\n",
              "    </tr>\n",
              "    <tr>\n",
              "      <th>3</th>\n",
              "      <td>New York City</td>\n",
              "      <td>8398748</td>\n",
              "      <td>3</td>\n",
              "    </tr>\n",
              "    <tr>\n",
              "      <th>4</th>\n",
              "      <td>Portland</td>\n",
              "      <td>653115</td>\n",
              "      <td>1</td>\n",
              "    </tr>\n",
              "    <tr>\n",
              "      <th>5</th>\n",
              "      <td>San Francisco</td>\n",
              "      <td>883305</td>\n",
              "      <td>3</td>\n",
              "    </tr>\n",
              "    <tr>\n",
              "      <th>6</th>\n",
              "      <td>Seattle</td>\n",
              "      <td>744955</td>\n",
              "      <td>2</td>\n",
              "    </tr>\n",
              "  </tbody>\n",
              "</table>\n",
              "</div>"
            ],
            "text/plain": [
              "       City Name  Population  Airports\n",
              "0        Atlanta      498044         2\n",
              "1         Austin      964254         2\n",
              "2    Kansas City      491918         8\n",
              "3  New York City     8398748         3\n",
              "4       Portland      653115         1\n",
              "5  San Francisco      883305         3\n",
              "6        Seattle      744955         2"
            ]
          },
          "metadata": {
            "tags": []
          },
          "execution_count": 29
        }
      ]
    },
    {
      "cell_type": "markdown",
      "metadata": {
        "id": "ppMjIT9gM6L1"
      },
      "source": [
        "That's much easier on the eyes! The rows are colored in an alternating background color scheme, which makes long rows of data easier to view."
      ]
    },
    {
      "cell_type": "markdown",
      "metadata": {
        "id": "A397Fja_NOdX"
      },
      "source": [
        "### Analyzing a DataFrame\n",
        "\n",
        "Similar to a `Series`, you can ask the `DataFrame` to compute information about itself. The `describe()` method provides statistics about the `DataFrame`."
      ]
    },
    {
      "cell_type": "code",
      "metadata": {
        "id": "YLIM4mGkAsjT",
        "colab": {
          "base_uri": "https://localhost:8080/",
          "height": 297
        },
        "outputId": "836dac6e-279c-40fc-af72-6626a9db5ab0"
      },
      "source": [
        "df.describe()"
      ],
      "execution_count": null,
      "outputs": [
        {
          "output_type": "execute_result",
          "data": {
            "text/html": [
              "<div>\n",
              "<style scoped>\n",
              "    .dataframe tbody tr th:only-of-type {\n",
              "        vertical-align: middle;\n",
              "    }\n",
              "\n",
              "    .dataframe tbody tr th {\n",
              "        vertical-align: top;\n",
              "    }\n",
              "\n",
              "    .dataframe thead th {\n",
              "        text-align: right;\n",
              "    }\n",
              "</style>\n",
              "<table border=\"1\" class=\"dataframe\">\n",
              "  <thead>\n",
              "    <tr style=\"text-align: right;\">\n",
              "      <th></th>\n",
              "      <th>Population</th>\n",
              "      <th>Airports</th>\n",
              "    </tr>\n",
              "  </thead>\n",
              "  <tbody>\n",
              "    <tr>\n",
              "      <th>count</th>\n",
              "      <td>7.000000e+00</td>\n",
              "      <td>7.000000</td>\n",
              "    </tr>\n",
              "    <tr>\n",
              "      <th>mean</th>\n",
              "      <td>1.804906e+06</td>\n",
              "      <td>3.000000</td>\n",
              "    </tr>\n",
              "    <tr>\n",
              "      <th>std</th>\n",
              "      <td>2.913095e+06</td>\n",
              "      <td>2.309401</td>\n",
              "    </tr>\n",
              "    <tr>\n",
              "      <th>min</th>\n",
              "      <td>4.919180e+05</td>\n",
              "      <td>1.000000</td>\n",
              "    </tr>\n",
              "    <tr>\n",
              "      <th>25%</th>\n",
              "      <td>5.755795e+05</td>\n",
              "      <td>2.000000</td>\n",
              "    </tr>\n",
              "    <tr>\n",
              "      <th>50%</th>\n",
              "      <td>7.449550e+05</td>\n",
              "      <td>2.000000</td>\n",
              "    </tr>\n",
              "    <tr>\n",
              "      <th>75%</th>\n",
              "      <td>9.237795e+05</td>\n",
              "      <td>3.000000</td>\n",
              "    </tr>\n",
              "    <tr>\n",
              "      <th>max</th>\n",
              "      <td>8.398748e+06</td>\n",
              "      <td>8.000000</td>\n",
              "    </tr>\n",
              "  </tbody>\n",
              "</table>\n",
              "</div>"
            ],
            "text/plain": [
              "         Population  Airports\n",
              "count  7.000000e+00  7.000000\n",
              "mean   1.804906e+06  3.000000\n",
              "std    2.913095e+06  2.309401\n",
              "min    4.919180e+05  1.000000\n",
              "25%    5.755795e+05  2.000000\n",
              "50%    7.449550e+05  2.000000\n",
              "75%    9.237795e+05  3.000000\n",
              "max    8.398748e+06  8.000000"
            ]
          },
          "metadata": {
            "tags": []
          },
          "execution_count": 30
        }
      ]
    },
    {
      "cell_type": "markdown",
      "metadata": {
        "id": "VhWWKfKlOQoT"
      },
      "source": [
        "These are the same statistics that we got when we called `describe` on a `Series` above. As you work with Pandas, you'll find that many of the methods that operate on `Series` also work with `DataFrame` objects.\n",
        "\n",
        "*Did you notice something missing in the output from `describe` though?*\n",
        "\n",
        "We have three columns in our `DataFrame`, but only two columns have statistics printed for them. This is because `describe` only works with numeric `Series` by default, and the 'City Name' column is a string.\n",
        "\n",
        "To show all columns add an `include='all'` argument to describe:"
      ]
    },
    {
      "cell_type": "code",
      "metadata": {
        "id": "AmWICoAVVqYi",
        "colab": {
          "base_uri": "https://localhost:8080/",
          "height": 390
        },
        "outputId": "49875279-af3a-4e73-9a05-e92a1f01fcc6"
      },
      "source": [
        "df.describe(include='all')"
      ],
      "execution_count": null,
      "outputs": [
        {
          "output_type": "execute_result",
          "data": {
            "text/html": [
              "<div>\n",
              "<style scoped>\n",
              "    .dataframe tbody tr th:only-of-type {\n",
              "        vertical-align: middle;\n",
              "    }\n",
              "\n",
              "    .dataframe tbody tr th {\n",
              "        vertical-align: top;\n",
              "    }\n",
              "\n",
              "    .dataframe thead th {\n",
              "        text-align: right;\n",
              "    }\n",
              "</style>\n",
              "<table border=\"1\" class=\"dataframe\">\n",
              "  <thead>\n",
              "    <tr style=\"text-align: right;\">\n",
              "      <th></th>\n",
              "      <th>City Name</th>\n",
              "      <th>Population</th>\n",
              "      <th>Airports</th>\n",
              "    </tr>\n",
              "  </thead>\n",
              "  <tbody>\n",
              "    <tr>\n",
              "      <th>count</th>\n",
              "      <td>7</td>\n",
              "      <td>7.000000e+00</td>\n",
              "      <td>7.000000</td>\n",
              "    </tr>\n",
              "    <tr>\n",
              "      <th>unique</th>\n",
              "      <td>7</td>\n",
              "      <td>NaN</td>\n",
              "      <td>NaN</td>\n",
              "    </tr>\n",
              "    <tr>\n",
              "      <th>top</th>\n",
              "      <td>Kansas City</td>\n",
              "      <td>NaN</td>\n",
              "      <td>NaN</td>\n",
              "    </tr>\n",
              "    <tr>\n",
              "      <th>freq</th>\n",
              "      <td>1</td>\n",
              "      <td>NaN</td>\n",
              "      <td>NaN</td>\n",
              "    </tr>\n",
              "    <tr>\n",
              "      <th>mean</th>\n",
              "      <td>NaN</td>\n",
              "      <td>1.804906e+06</td>\n",
              "      <td>3.000000</td>\n",
              "    </tr>\n",
              "    <tr>\n",
              "      <th>std</th>\n",
              "      <td>NaN</td>\n",
              "      <td>2.913095e+06</td>\n",
              "      <td>2.309401</td>\n",
              "    </tr>\n",
              "    <tr>\n",
              "      <th>min</th>\n",
              "      <td>NaN</td>\n",
              "      <td>4.919180e+05</td>\n",
              "      <td>1.000000</td>\n",
              "    </tr>\n",
              "    <tr>\n",
              "      <th>25%</th>\n",
              "      <td>NaN</td>\n",
              "      <td>5.755795e+05</td>\n",
              "      <td>2.000000</td>\n",
              "    </tr>\n",
              "    <tr>\n",
              "      <th>50%</th>\n",
              "      <td>NaN</td>\n",
              "      <td>7.449550e+05</td>\n",
              "      <td>2.000000</td>\n",
              "    </tr>\n",
              "    <tr>\n",
              "      <th>75%</th>\n",
              "      <td>NaN</td>\n",
              "      <td>9.237795e+05</td>\n",
              "      <td>3.000000</td>\n",
              "    </tr>\n",
              "    <tr>\n",
              "      <th>max</th>\n",
              "      <td>NaN</td>\n",
              "      <td>8.398748e+06</td>\n",
              "      <td>8.000000</td>\n",
              "    </tr>\n",
              "  </tbody>\n",
              "</table>\n",
              "</div>"
            ],
            "text/plain": [
              "          City Name    Population  Airports\n",
              "count             7  7.000000e+00  7.000000\n",
              "unique            7           NaN       NaN\n",
              "top     Kansas City           NaN       NaN\n",
              "freq              1           NaN       NaN\n",
              "mean            NaN  1.804906e+06  3.000000\n",
              "std             NaN  2.913095e+06  2.309401\n",
              "min             NaN  4.919180e+05  1.000000\n",
              "25%             NaN  5.755795e+05  2.000000\n",
              "50%             NaN  7.449550e+05  2.000000\n",
              "75%             NaN  9.237795e+05  3.000000\n",
              "max             NaN  8.398748e+06  8.000000"
            ]
          },
          "metadata": {
            "tags": []
          },
          "execution_count": 31
        }
      ]
    },
    {
      "cell_type": "markdown",
      "metadata": {
        "id": "LYMlR8S1Vy7v"
      },
      "source": [
        "We now get a few more metrics specific to string columns: `unique`, `top`, and `freq`. We also now can see the 'City Name' column."
      ]
    },
    {
      "cell_type": "markdown",
      "metadata": {
        "id": "LyvcomOpD_bw"
      },
      "source": [
        "If we want to look at the data we could print the entire `DataFrame`, but that doesn't scale well for really large `DataFrames`. The `head` method is a way to just look at the first few rows of a `DataFrame`."
      ]
    },
    {
      "cell_type": "code",
      "metadata": {
        "id": "xKh5SCetDXER",
        "colab": {
          "base_uri": "https://localhost:8080/",
          "height": 204
        },
        "outputId": "510a002f-1269-4f42-c608-44a6ba532e8c"
      },
      "source": [
        "df.head()"
      ],
      "execution_count": null,
      "outputs": [
        {
          "output_type": "execute_result",
          "data": {
            "text/html": [
              "<div>\n",
              "<style scoped>\n",
              "    .dataframe tbody tr th:only-of-type {\n",
              "        vertical-align: middle;\n",
              "    }\n",
              "\n",
              "    .dataframe tbody tr th {\n",
              "        vertical-align: top;\n",
              "    }\n",
              "\n",
              "    .dataframe thead th {\n",
              "        text-align: right;\n",
              "    }\n",
              "</style>\n",
              "<table border=\"1\" class=\"dataframe\">\n",
              "  <thead>\n",
              "    <tr style=\"text-align: right;\">\n",
              "      <th></th>\n",
              "      <th>City Name</th>\n",
              "      <th>Population</th>\n",
              "      <th>Airports</th>\n",
              "    </tr>\n",
              "  </thead>\n",
              "  <tbody>\n",
              "    <tr>\n",
              "      <th>0</th>\n",
              "      <td>Atlanta</td>\n",
              "      <td>498044</td>\n",
              "      <td>2</td>\n",
              "    </tr>\n",
              "    <tr>\n",
              "      <th>1</th>\n",
              "      <td>Austin</td>\n",
              "      <td>964254</td>\n",
              "      <td>2</td>\n",
              "    </tr>\n",
              "    <tr>\n",
              "      <th>2</th>\n",
              "      <td>Kansas City</td>\n",
              "      <td>491918</td>\n",
              "      <td>8</td>\n",
              "    </tr>\n",
              "    <tr>\n",
              "      <th>3</th>\n",
              "      <td>New York City</td>\n",
              "      <td>8398748</td>\n",
              "      <td>3</td>\n",
              "    </tr>\n",
              "    <tr>\n",
              "      <th>4</th>\n",
              "      <td>Portland</td>\n",
              "      <td>653115</td>\n",
              "      <td>1</td>\n",
              "    </tr>\n",
              "  </tbody>\n",
              "</table>\n",
              "</div>"
            ],
            "text/plain": [
              "       City Name  Population  Airports\n",
              "0        Atlanta      498044         2\n",
              "1         Austin      964254         2\n",
              "2    Kansas City      491918         8\n",
              "3  New York City     8398748         3\n",
              "4       Portland      653115         1"
            ]
          },
          "metadata": {
            "tags": []
          },
          "execution_count": 32
        }
      ]
    },
    {
      "cell_type": "markdown",
      "metadata": {
        "id": "UFlAcJryWYFx"
      },
      "source": [
        "Conversely, the `tail` method returns the last few rows of a data frame."
      ]
    },
    {
      "cell_type": "code",
      "metadata": {
        "id": "LZAD5VbtDYqH",
        "colab": {
          "base_uri": "https://localhost:8080/",
          "height": 204
        },
        "outputId": "6cc055b0-965b-4362-ce96-e3b797f35bcb"
      },
      "source": [
        "df.tail()"
      ],
      "execution_count": null,
      "outputs": [
        {
          "output_type": "execute_result",
          "data": {
            "text/html": [
              "<div>\n",
              "<style scoped>\n",
              "    .dataframe tbody tr th:only-of-type {\n",
              "        vertical-align: middle;\n",
              "    }\n",
              "\n",
              "    .dataframe tbody tr th {\n",
              "        vertical-align: top;\n",
              "    }\n",
              "\n",
              "    .dataframe thead th {\n",
              "        text-align: right;\n",
              "    }\n",
              "</style>\n",
              "<table border=\"1\" class=\"dataframe\">\n",
              "  <thead>\n",
              "    <tr style=\"text-align: right;\">\n",
              "      <th></th>\n",
              "      <th>City Name</th>\n",
              "      <th>Population</th>\n",
              "      <th>Airports</th>\n",
              "    </tr>\n",
              "  </thead>\n",
              "  <tbody>\n",
              "    <tr>\n",
              "      <th>2</th>\n",
              "      <td>Kansas City</td>\n",
              "      <td>491918</td>\n",
              "      <td>8</td>\n",
              "    </tr>\n",
              "    <tr>\n",
              "      <th>3</th>\n",
              "      <td>New York City</td>\n",
              "      <td>8398748</td>\n",
              "      <td>3</td>\n",
              "    </tr>\n",
              "    <tr>\n",
              "      <th>4</th>\n",
              "      <td>Portland</td>\n",
              "      <td>653115</td>\n",
              "      <td>1</td>\n",
              "    </tr>\n",
              "    <tr>\n",
              "      <th>5</th>\n",
              "      <td>San Francisco</td>\n",
              "      <td>883305</td>\n",
              "      <td>3</td>\n",
              "    </tr>\n",
              "    <tr>\n",
              "      <th>6</th>\n",
              "      <td>Seattle</td>\n",
              "      <td>744955</td>\n",
              "      <td>2</td>\n",
              "    </tr>\n",
              "  </tbody>\n",
              "</table>\n",
              "</div>"
            ],
            "text/plain": [
              "       City Name  Population  Airports\n",
              "2    Kansas City      491918         8\n",
              "3  New York City     8398748         3\n",
              "4       Portland      653115         1\n",
              "5  San Francisco      883305         3\n",
              "6        Seattle      744955         2"
            ]
          },
          "metadata": {
            "tags": []
          },
          "execution_count": 33
        }
      ]
    },
    {
      "cell_type": "markdown",
      "metadata": {
        "id": "nYziu5ScrsIn"
      },
      "source": [
        "You can also choose the number of rows you want to print as part of `head` and `tail`."
      ]
    },
    {
      "cell_type": "code",
      "metadata": {
        "id": "xRuRx_Zkrwxx",
        "colab": {
          "base_uri": "https://localhost:8080/",
          "height": 266
        },
        "outputId": "e742243d-28a2-4166-b5cc-85b7e0691c44"
      },
      "source": [
        "df.head(12)"
      ],
      "execution_count": null,
      "outputs": [
        {
          "output_type": "execute_result",
          "data": {
            "text/html": [
              "<div>\n",
              "<style scoped>\n",
              "    .dataframe tbody tr th:only-of-type {\n",
              "        vertical-align: middle;\n",
              "    }\n",
              "\n",
              "    .dataframe tbody tr th {\n",
              "        vertical-align: top;\n",
              "    }\n",
              "\n",
              "    .dataframe thead th {\n",
              "        text-align: right;\n",
              "    }\n",
              "</style>\n",
              "<table border=\"1\" class=\"dataframe\">\n",
              "  <thead>\n",
              "    <tr style=\"text-align: right;\">\n",
              "      <th></th>\n",
              "      <th>City Name</th>\n",
              "      <th>Population</th>\n",
              "      <th>Airports</th>\n",
              "    </tr>\n",
              "  </thead>\n",
              "  <tbody>\n",
              "    <tr>\n",
              "      <th>0</th>\n",
              "      <td>Atlanta</td>\n",
              "      <td>498044</td>\n",
              "      <td>2</td>\n",
              "    </tr>\n",
              "    <tr>\n",
              "      <th>1</th>\n",
              "      <td>Austin</td>\n",
              "      <td>964254</td>\n",
              "      <td>2</td>\n",
              "    </tr>\n",
              "    <tr>\n",
              "      <th>2</th>\n",
              "      <td>Kansas City</td>\n",
              "      <td>491918</td>\n",
              "      <td>8</td>\n",
              "    </tr>\n",
              "    <tr>\n",
              "      <th>3</th>\n",
              "      <td>New York City</td>\n",
              "      <td>8398748</td>\n",
              "      <td>3</td>\n",
              "    </tr>\n",
              "    <tr>\n",
              "      <th>4</th>\n",
              "      <td>Portland</td>\n",
              "      <td>653115</td>\n",
              "      <td>1</td>\n",
              "    </tr>\n",
              "    <tr>\n",
              "      <th>5</th>\n",
              "      <td>San Francisco</td>\n",
              "      <td>883305</td>\n",
              "      <td>3</td>\n",
              "    </tr>\n",
              "    <tr>\n",
              "      <th>6</th>\n",
              "      <td>Seattle</td>\n",
              "      <td>744955</td>\n",
              "      <td>2</td>\n",
              "    </tr>\n",
              "  </tbody>\n",
              "</table>\n",
              "</div>"
            ],
            "text/plain": [
              "       City Name  Population  Airports\n",
              "0        Atlanta      498044         2\n",
              "1         Austin      964254         2\n",
              "2    Kansas City      491918         8\n",
              "3  New York City     8398748         3\n",
              "4       Portland      653115         1\n",
              "5  San Francisco      883305         3\n",
              "6        Seattle      744955         2"
            ]
          },
          "metadata": {
            "tags": []
          },
          "execution_count": 34
        }
      ]
    },
    {
      "cell_type": "markdown",
      "metadata": {
        "id": "UkDcNsq2Wi2l"
      },
      "source": [
        "These are useful ways at taking a look at actual data, but they can have some inherent bias in them. If the data is sorted by any column values, `head` or `tail` might show a skewed view of the data.\n",
        "\n",
        "One way to combat this is to always look at both the head and tail of your data. Another way is to randomly sample your data and look at the sample. This will reduce the chance that you are seeing a lopsided view of your data."
      ]
    },
    {
      "cell_type": "markdown",
      "metadata": {
        "id": "SjTWrMmfETIi"
      },
      "source": [
        "We can also visualize the data in a `DataFrame`. The `hist` command will make a histogram of each of the numerical columns. As you will see, some of these histograms are more informative than others."
      ]
    },
    {
      "cell_type": "code",
      "metadata": {
        "id": "iOiWtVR2DZyR",
        "colab": {
          "base_uri": "https://localhost:8080/",
          "height": 294
        },
        "outputId": "11e06600-a567-4624-aa1f-1b687c4db0ea"
      },
      "source": [
        "_ = df.hist()"
      ],
      "execution_count": null,
      "outputs": [
        {
          "output_type": "display_data",
          "data": {
            "image/png": "[encoded data removed]",
            "text/plain": [
              "<Figure size 432x288 with 2 Axes>"
            ]
          },
          "metadata": {
            "tags": [],
            "needs_background": "light"
          }
        }
      ]
    },
    {
      "cell_type": "markdown",
      "metadata": {
        "id": "35ne0g79WoYM"
      },
      "source": [
        "**What Information Might We Gain From These Histograms?**\n",
        "\n",
        "In the airports histogram, we can see that there is one outlier (Kansas City), and all other cities have roughly two airports.\n",
        "\n",
        "In the population histogram, we can see that there is also one outlier (New York City), which has an order of magnitude more population, such that all other populations are very close to zero in comparison. We also see here how the axis can get very messy."
      ]
    },
    {
      "cell_type": "markdown",
      "metadata": {
        "id": "dXr-NQYcXF23"
      },
      "source": [
        "#### Exercise 3: Sampling Data\n",
        "\n",
        "Find a method in the [DataFrame documentation](https://pandas.pydata.org/pandas-docs/stable/reference/api/pandas.DataFrame.html) that returns a random sample of your `DataFrame`. Call that method and make it return five rows of data."
      ]
    },
    {
      "cell_type": "markdown",
      "metadata": {
        "id": "8qXQUroOXYcd"
      },
      "source": [
        "**Student Solution**"
      ]
    },
    {
      "cell_type": "code",
      "metadata": {
        "id": "ag_gH8H7XaO8"
      },
      "source": [
        "\n",
        "\n",
        "# Your Code Goes Here\n"
      ],
      "execution_count": 3,
      "outputs": []
    },
    {
      "cell_type": "markdown",
      "metadata": {
        "id": "eZhR8SFsX9mm"
      },
      "source": [
        "---"
      ]
    },
    {
      "cell_type": "markdown",
      "metadata": {
        "id": "rk03BOzuYNhM"
      },
      "source": [
        "### Accessing Values\n",
        "\n",
        "We saw that individual values in a  `Series` can be accessed using indexing similar to that seen in standard Python lists and tuples. Accessing values in `DataFrame` objects is a little more involved."
      ]
    },
    {
      "cell_type": "markdown",
      "metadata": {
        "id": "qWtjPJr_Ygz0"
      },
      "source": [
        "#### Accessing Columns\n",
        "\n",
        "To access an entire column of data you can index the `DataFrame` by column name. For instance, to return the entire `City Name` column as a `Series` you can run the code below:"
      ]
    },
    {
      "cell_type": "code",
      "metadata": {
        "id": "8WAQRgoYbJxX",
        "colab": {
          "base_uri": "https://localhost:8080/"
        },
        "outputId": "1f382cd0-d743-4f5c-9504-5e42beeef753"
      },
      "source": [
        "df['City Name']"
      ],
      "execution_count": null,
      "outputs": [
        {
          "output_type": "execute_result",
          "data": {
            "text/plain": [
              "0          Atlanta\n",
              "1           Austin\n",
              "2      Kansas City\n",
              "3    New York City\n",
              "4         Portland\n",
              "5    San Francisco\n",
              "6          Seattle\n",
              "Name: City Name, dtype: object"
            ]
          },
          "metadata": {
            "tags": []
          },
          "execution_count": 38
        }
      ]
    },
    {
      "cell_type": "markdown",
      "metadata": {
        "id": "o66D4v6GgwJj"
      },
      "source": [
        "But what if you want a `DataFrame` instead of a `Series`?\n",
        "\n",
        "In this case, you index the `DataFrame` using a list, where the list contains the name of the column that you want returned as a `DataFrame`:"
      ]
    },
    {
      "cell_type": "code",
      "metadata": {
        "id": "FPSyeueTgtqH",
        "colab": {
          "base_uri": "https://localhost:8080/",
          "height": 266
        },
        "outputId": "98a2ffb0-8f63-43eb-9a08-e832e2e8adec"
      },
      "source": [
        "df[['City Name']]"
      ],
      "execution_count": null,
      "outputs": [
        {
          "output_type": "execute_result",
          "data": {
            "text/html": [
              "<div>\n",
              "<style scoped>\n",
              "    .dataframe tbody tr th:only-of-type {\n",
              "        vertical-align: middle;\n",
              "    }\n",
              "\n",
              "    .dataframe tbody tr th {\n",
              "        vertical-align: top;\n",
              "    }\n",
              "\n",
              "    .dataframe thead th {\n",
              "        text-align: right;\n",
              "    }\n",
              "</style>\n",
              "<table border=\"1\" class=\"dataframe\">\n",
              "  <thead>\n",
              "    <tr style=\"text-align: right;\">\n",
              "      <th></th>\n",
              "      <th>City Name</th>\n",
              "    </tr>\n",
              "  </thead>\n",
              "  <tbody>\n",
              "    <tr>\n",
              "      <th>0</th>\n",
              "      <td>Atlanta</td>\n",
              "    </tr>\n",
              "    <tr>\n",
              "      <th>1</th>\n",
              "      <td>Austin</td>\n",
              "    </tr>\n",
              "    <tr>\n",
              "      <th>2</th>\n",
              "      <td>Kansas City</td>\n",
              "    </tr>\n",
              "    <tr>\n",
              "      <th>3</th>\n",
              "      <td>New York City</td>\n",
              "    </tr>\n",
              "    <tr>\n",
              "      <th>4</th>\n",
              "      <td>Portland</td>\n",
              "    </tr>\n",
              "    <tr>\n",
              "      <th>5</th>\n",
              "      <td>San Francisco</td>\n",
              "    </tr>\n",
              "    <tr>\n",
              "      <th>6</th>\n",
              "      <td>Seattle</td>\n",
              "    </tr>\n",
              "  </tbody>\n",
              "</table>\n",
              "</div>"
            ],
            "text/plain": [
              "       City Name\n",
              "0        Atlanta\n",
              "1         Austin\n",
              "2    Kansas City\n",
              "3  New York City\n",
              "4       Portland\n",
              "5  San Francisco\n",
              "6        Seattle"
            ]
          },
          "metadata": {
            "tags": []
          },
          "execution_count": 39
        }
      ]
    },
    {
      "cell_type": "markdown",
      "metadata": {
        "id": "0eVwq3W5hB4K"
      },
      "source": [
        "Similarly, you can return more than one column in the resultant `DataFrame`:"
      ]
    },
    {
      "cell_type": "code",
      "metadata": {
        "id": "UvKD5hIPhISw",
        "colab": {
          "base_uri": "https://localhost:8080/",
          "height": 266
        },
        "outputId": "95ae3841-f421-476b-fe76-de0508302977"
      },
      "source": [
        "df[['City Name', 'Population']]"
      ],
      "execution_count": null,
      "outputs": [
        {
          "output_type": "execute_result",
          "data": {
            "text/html": [
              "<div>\n",
              "<style scoped>\n",
              "    .dataframe tbody tr th:only-of-type {\n",
              "        vertical-align: middle;\n",
              "    }\n",
              "\n",
              "    .dataframe tbody tr th {\n",
              "        vertical-align: top;\n",
              "    }\n",
              "\n",
              "    .dataframe thead th {\n",
              "        text-align: right;\n",
              "    }\n",
              "</style>\n",
              "<table border=\"1\" class=\"dataframe\">\n",
              "  <thead>\n",
              "    <tr style=\"text-align: right;\">\n",
              "      <th></th>\n",
              "      <th>City Name</th>\n",
              "      <th>Population</th>\n",
              "    </tr>\n",
              "  </thead>\n",
              "  <tbody>\n",
              "    <tr>\n",
              "      <th>0</th>\n",
              "      <td>Atlanta</td>\n",
              "      <td>498044</td>\n",
              "    </tr>\n",
              "    <tr>\n",
              "      <th>1</th>\n",
              "      <td>Austin</td>\n",
              "      <td>964254</td>\n",
              "    </tr>\n",
              "    <tr>\n",
              "      <th>2</th>\n",
              "      <td>Kansas City</td>\n",
              "      <td>491918</td>\n",
              "    </tr>\n",
              "    <tr>\n",
              "      <th>3</th>\n",
              "      <td>New York City</td>\n",
              "      <td>8398748</td>\n",
              "    </tr>\n",
              "    <tr>\n",
              "      <th>4</th>\n",
              "      <td>Portland</td>\n",
              "      <td>653115</td>\n",
              "    </tr>\n",
              "    <tr>\n",
              "      <th>5</th>\n",
              "      <td>San Francisco</td>\n",
              "      <td>883305</td>\n",
              "    </tr>\n",
              "    <tr>\n",
              "      <th>6</th>\n",
              "      <td>Seattle</td>\n",
              "      <td>744955</td>\n",
              "    </tr>\n",
              "  </tbody>\n",
              "</table>\n",
              "</div>"
            ],
            "text/plain": [
              "       City Name  Population\n",
              "0        Atlanta      498044\n",
              "1         Austin      964254\n",
              "2    Kansas City      491918\n",
              "3  New York City     8398748\n",
              "4       Portland      653115\n",
              "5  San Francisco      883305\n",
              "6        Seattle      744955"
            ]
          },
          "metadata": {
            "tags": []
          },
          "execution_count": 40
        }
      ]
    },
    {
      "cell_type": "markdown",
      "metadata": {
        "id": "ZHr4L2LghLvx"
      },
      "source": [
        "Sometimes you might also see columns of data referenced using the dot notation:"
      ]
    },
    {
      "cell_type": "code",
      "metadata": {
        "id": "XsE5Phm8hMqp",
        "colab": {
          "base_uri": "https://localhost:8080/"
        },
        "outputId": "0b4462d1-fc3d-4249-bc85-393dd5d9ddc7"
      },
      "source": [
        "df.Population"
      ],
      "execution_count": null,
      "outputs": [
        {
          "output_type": "execute_result",
          "data": {
            "text/plain": [
              "0     498044\n",
              "1     964254\n",
              "2     491918\n",
              "3    8398748\n",
              "4     653115\n",
              "5     883305\n",
              "6     744955\n",
              "Name: Population, dtype: int64"
            ]
          },
          "metadata": {
            "tags": []
          },
          "execution_count": 41
        }
      ]
    },
    {
      "cell_type": "markdown",
      "metadata": {
        "id": "CPpoBPTRhS2B"
      },
      "source": [
        "This is a neat trick, but it is problematic for a couple of reasons:\n",
        "\n",
        "1. You can only get a `Series` back.\n",
        "1. It is impossible to reference columns with spaces in the names with this notation (ex. 'City Name').\n",
        "1. It is confusing if a column has the same name as an inbuilt method of a `DataFrame`, such as `size`.\n",
        "\n",
        "We mention this notation because you'll likely see it. However, we don't advise using it."
      ]
    },
    {
      "cell_type": "markdown",
      "metadata": {
        "id": "nnTuc0y0hrQu"
      },
      "source": [
        "#### Accessing Rows\n",
        "\n",
        "In order to access rows of data, you can't use standard indexing. It would seem natural to index using a numeric row value, but as you can see in the example below, this yields a `KeyError`."
      ]
    },
    {
      "cell_type": "code",
      "metadata": {
        "id": "KcD_78_thoNL",
        "colab": {
          "base_uri": "https://localhost:8080/"
        },
        "outputId": "1312162d-6b54-4397-d112-317d3783f70e"
      },
      "source": [
        "try:\n",
        "  df[1]\n",
        "except KeyError:\n",
        "  print('Got KeyError')"
      ],
      "execution_count": null,
      "outputs": [
        {
          "output_type": "stream",
          "text": [
            "Got KeyError\n"
          ],
          "name": "stdout"
        }
      ]
    },
    {
      "cell_type": "markdown",
      "metadata": {
        "id": "vrm4fuNTiVbz"
      },
      "source": [
        "This is because the default indexing is to look for column names, and numbers are valid column names. If you had a column named `1` in a `DataFrame` with at least two rows, Pandas wouldn't know if you wanted row `1` or column `1`.\n",
        "\n",
        "In order to index by row, you must use the `iloc` feature of the `DataFrame` object."
      ]
    },
    {
      "cell_type": "code",
      "metadata": {
        "id": "vzHQh72JiezU",
        "colab": {
          "base_uri": "https://localhost:8080/"
        },
        "outputId": "62a78f14-07c2-4c07-b8c5-d4d36535f8f7"
      },
      "source": [
        "df.iloc[1]"
      ],
      "execution_count": null,
      "outputs": [
        {
          "output_type": "execute_result",
          "data": {
            "text/plain": [
              "City Name     Austin\n",
              "Population    964254\n",
              "Airports           2\n",
              "Name: 1, dtype: object"
            ]
          },
          "metadata": {
            "tags": []
          },
          "execution_count": 43
        }
      ]
    },
    {
      "cell_type": "markdown",
      "metadata": {
        "id": "MXfytch_imDy"
      },
      "source": [
        "The code above returns the second row of data in the `DataFrame` as a `Series`.\n",
        "\n",
        "You can also return multiple rows using slices:"
      ]
    },
    {
      "cell_type": "code",
      "metadata": {
        "id": "UKDTY0aEihFN",
        "colab": {
          "base_uri": "https://localhost:8080/",
          "height": 111
        },
        "outputId": "a72df788-5817-4e5d-b74a-945432b6c4f0"
      },
      "source": [
        "df.iloc[1:3]"
      ],
      "execution_count": null,
      "outputs": [
        {
          "output_type": "execute_result",
          "data": {
            "text/html": [
              "<div>\n",
              "<style scoped>\n",
              "    .dataframe tbody tr th:only-of-type {\n",
              "        vertical-align: middle;\n",
              "    }\n",
              "\n",
              "    .dataframe tbody tr th {\n",
              "        vertical-align: top;\n",
              "    }\n",
              "\n",
              "    .dataframe thead th {\n",
              "        text-align: right;\n",
              "    }\n",
              "</style>\n",
              "<table border=\"1\" class=\"dataframe\">\n",
              "  <thead>\n",
              "    <tr style=\"text-align: right;\">\n",
              "      <th></th>\n",
              "      <th>City Name</th>\n",
              "      <th>Population</th>\n",
              "      <th>Airports</th>\n",
              "    </tr>\n",
              "  </thead>\n",
              "  <tbody>\n",
              "    <tr>\n",
              "      <th>1</th>\n",
              "      <td>Austin</td>\n",
              "      <td>964254</td>\n",
              "      <td>2</td>\n",
              "    </tr>\n",
              "    <tr>\n",
              "      <th>2</th>\n",
              "      <td>Kansas City</td>\n",
              "      <td>491918</td>\n",
              "      <td>8</td>\n",
              "    </tr>\n",
              "  </tbody>\n",
              "</table>\n",
              "</div>"
            ],
            "text/plain": [
              "     City Name  Population  Airports\n",
              "1       Austin      964254         2\n",
              "2  Kansas City      491918         8"
            ]
          },
          "metadata": {
            "tags": []
          },
          "execution_count": 44
        }
      ]
    },
    {
      "cell_type": "markdown",
      "metadata": {
        "id": "qtmJzbuRkhJ9"
      },
      "source": [
        "As an aside, if you do use a range, then `iloc` is optional since columns can't be referenced in a range, and the default selector can disambiguate what you are doing. This can be a little confusing, though, so try to avoid it."
      ]
    },
    {
      "cell_type": "code",
      "metadata": {
        "id": "Dv1kBnrAkuG_",
        "colab": {
          "base_uri": "https://localhost:8080/",
          "height": 111
        },
        "outputId": "492e3470-bf6c-4b1c-88cf-cb4ec74e9177"
      },
      "source": [
        "df[1:3]"
      ],
      "execution_count": null,
      "outputs": [
        {
          "output_type": "execute_result",
          "data": {
            "text/html": [
              "<div>\n",
              "<style scoped>\n",
              "    .dataframe tbody tr th:only-of-type {\n",
              "        vertical-align: middle;\n",
              "    }\n",
              "\n",
              "    .dataframe tbody tr th {\n",
              "        vertical-align: top;\n",
              "    }\n",
              "\n",
              "    .dataframe thead th {\n",
              "        text-align: right;\n",
              "    }\n",
              "</style>\n",
              "<table border=\"1\" class=\"dataframe\">\n",
              "  <thead>\n",
              "    <tr style=\"text-align: right;\">\n",
              "      <th></th>\n",
              "      <th>City Name</th>\n",
              "      <th>Population</th>\n",
              "      <th>Airports</th>\n",
              "    </tr>\n",
              "  </thead>\n",
              "  <tbody>\n",
              "    <tr>\n",
              "      <th>1</th>\n",
              "      <td>Austin</td>\n",
              "      <td>964254</td>\n",
              "      <td>2</td>\n",
              "    </tr>\n",
              "    <tr>\n",
              "      <th>2</th>\n",
              "      <td>Kansas City</td>\n",
              "      <td>491918</td>\n",
              "      <td>8</td>\n",
              "    </tr>\n",
              "  </tbody>\n",
              "</table>\n",
              "</div>"
            ],
            "text/plain": [
              "     City Name  Population  Airports\n",
              "1       Austin      964254         2\n",
              "2  Kansas City      491918         8"
            ]
          },
          "metadata": {
            "tags": []
          },
          "execution_count": 45
        }
      ]
    },
    {
      "cell_type": "markdown",
      "metadata": {
        "id": "fF0IS7r_jFcG"
      },
      "source": [
        "If you want sparse rows that don't fall into an easily defined range, you can pass `iloc` a list of rows that you would like returned:"
      ]
    },
    {
      "cell_type": "code",
      "metadata": {
        "id": "jgGFU_fGi3YI",
        "colab": {
          "base_uri": "https://localhost:8080/",
          "height": 111
        },
        "outputId": "8f5c5068-d3df-47f9-bb77-0805f839c12e"
      },
      "source": [
        "df.iloc[[1, 3]]"
      ],
      "execution_count": null,
      "outputs": [
        {
          "output_type": "execute_result",
          "data": {
            "text/html": [
              "<div>\n",
              "<style scoped>\n",
              "    .dataframe tbody tr th:only-of-type {\n",
              "        vertical-align: middle;\n",
              "    }\n",
              "\n",
              "    .dataframe tbody tr th {\n",
              "        vertical-align: top;\n",
              "    }\n",
              "\n",
              "    .dataframe thead th {\n",
              "        text-align: right;\n",
              "    }\n",
              "</style>\n",
              "<table border=\"1\" class=\"dataframe\">\n",
              "  <thead>\n",
              "    <tr style=\"text-align: right;\">\n",
              "      <th></th>\n",
              "      <th>City Name</th>\n",
              "      <th>Population</th>\n",
              "      <th>Airports</th>\n",
              "    </tr>\n",
              "  </thead>\n",
              "  <tbody>\n",
              "    <tr>\n",
              "      <th>1</th>\n",
              "      <td>Austin</td>\n",
              "      <td>964254</td>\n",
              "      <td>2</td>\n",
              "    </tr>\n",
              "    <tr>\n",
              "      <th>3</th>\n",
              "      <td>New York City</td>\n",
              "      <td>8398748</td>\n",
              "      <td>3</td>\n",
              "    </tr>\n",
              "  </tbody>\n",
              "</table>\n",
              "</div>"
            ],
            "text/plain": [
              "       City Name  Population  Airports\n",
              "1         Austin      964254         2\n",
              "3  New York City     8398748         3"
            ]
          },
          "metadata": {
            "tags": []
          },
          "execution_count": 46
        }
      ]
    },
    {
      "cell_type": "markdown",
      "metadata": {
        "id": "KDt0iotCjNtQ"
      },
      "source": [
        "##### Exercise 4: Single Row as a `DataFrame`\n",
        "\n",
        "Given the methods of accessing rows in a `DataFrame` that we have learned so far, how would you access the third row in the `df` `DataFrame` defined below as a `DataFrame` itself (as opposed to as a `Series`)?"
      ]
    },
    {
      "cell_type": "markdown",
      "metadata": {
        "id": "qMDjTzIQjlUJ"
      },
      "source": [
        "**Student Solution**"
      ]
    },
    {
      "cell_type": "code",
      "metadata": {
        "id": "Me-p2uNXjnFJ"
      },
      "source": [
        "\n",
        "# Your Code Goes Here\n",
        "#df\n"
      ],
      "execution_count": 4,
      "outputs": []
    },
    {
      "cell_type": "markdown",
      "metadata": {
        "id": "uHSFpxGkj7ZQ"
      },
      "source": [
        "---"
      ]
    },
    {
      "cell_type": "markdown",
      "metadata": {
        "id": "Lyx0bH8xuCg0"
      },
      "source": [
        "##### Accessing Row/Column Intersections\n",
        "\n",
        "We've learned how to access columns by direct indexing on the `DataFrame`. We've learned how to access rows by using `iloc`. You can combine these two access methods using the `loc` functionality of the `DataFrame` object.\n",
        "\n",
        "Simply call `loc` and pass it two arguments:\n",
        "\n",
        "1. The row(s) you want to access\n",
        "1. The column(s) you want to access\n",
        "\n",
        "In the example below we access the 'City Name' in the third row of the `DataFrame`:"
      ]
    },
    {
      "cell_type": "code",
      "metadata": {
        "id": "2SEzG3jXuYah",
        "colab": {
          "base_uri": "https://localhost:8080/",
          "height": 35
        },
        "outputId": "734d5ab4-0b04-4fc2-f3f7-a0c53afcc50a"
      },
      "source": [
        "city_names = pd.Series(['Atlanta', 'Austin', 'Kansas City', 'New York City', \n",
        "                        'Portland', 'San Francisco', 'Seattle'])\n",
        "population = pd.Series([498044, 964254, 491918, 8398748, 653115, 883305, 744955])\n",
        "num_airports = pd.Series([2, 2, 8, 3, 1, 3, 2])\n",
        "\n",
        "df = pd.DataFrame({\n",
        "  'City Name': city_names,\n",
        "  'Population': population, \n",
        "  'Airports': num_airports,\n",
        "})\n",
        "\n",
        "df.loc[2, 'City Name']"
      ],
      "execution_count": null,
      "outputs": [
        {
          "output_type": "execute_result",
          "data": {
            "application/vnd.google.colaboratory.intrinsic+json": {
              "type": "string"
            },
            "text/plain": [
              "'Kansas City'"
            ]
          },
          "metadata": {
            "tags": []
          },
          "execution_count": 52
        }
      ]
    },
    {
      "cell_type": "markdown",
      "metadata": {
        "id": "K3lc7le8ChF1"
      },
      "source": [
        "In the example below we access the 'City Name' and 'Airports' columns in the third and fourth rows of the `DataFrame`:"
      ]
    },
    {
      "cell_type": "code",
      "metadata": {
        "id": "OKCMEAhhuyPl",
        "colab": {
          "base_uri": "https://localhost:8080/",
          "height": 111
        },
        "outputId": "eb8ea7d0-9378-4887-e5ae-faf59fc4464c"
      },
      "source": [
        "city_names = pd.Series(['Atlanta', 'Austin', 'Kansas City', 'New York City', \n",
        "                        'Portland', 'San Francisco', 'Seattle'])\n",
        "population = pd.Series([498044, 964254, 491918, 8398748, 653115, 883305, 744955])\n",
        "num_airports = pd.Series([2, 2, 8, 3, 1, 3, 2])\n",
        "\n",
        "df = pd.DataFrame({\n",
        "  'City Name': city_names,\n",
        "  'Population': population, \n",
        "  'Airports': num_airports,\n",
        "})\n",
        "\n",
        "df.loc[[2,3], ['City Name', 'Airports']]"
      ],
      "execution_count": null,
      "outputs": [
        {
          "output_type": "execute_result",
          "data": {
            "text/html": [
              "<div>\n",
              "<style scoped>\n",
              "    .dataframe tbody tr th:only-of-type {\n",
              "        vertical-align: middle;\n",
              "    }\n",
              "\n",
              "    .dataframe tbody tr th {\n",
              "        vertical-align: top;\n",
              "    }\n",
              "\n",
              "    .dataframe thead th {\n",
              "        text-align: right;\n",
              "    }\n",
              "</style>\n",
              "<table border=\"1\" class=\"dataframe\">\n",
              "  <thead>\n",
              "    <tr style=\"text-align: right;\">\n",
              "      <th></th>\n",
              "      <th>City Name</th>\n",
              "      <th>Airports</th>\n",
              "    </tr>\n",
              "  </thead>\n",
              "  <tbody>\n",
              "    <tr>\n",
              "      <th>2</th>\n",
              "      <td>Kansas City</td>\n",
              "      <td>8</td>\n",
              "    </tr>\n",
              "    <tr>\n",
              "      <th>3</th>\n",
              "      <td>New York City</td>\n",
              "      <td>3</td>\n",
              "    </tr>\n",
              "  </tbody>\n",
              "</table>\n",
              "</div>"
            ],
            "text/plain": [
              "       City Name  Airports\n",
              "2    Kansas City         8\n",
              "3  New York City         3"
            ]
          },
          "metadata": {
            "tags": []
          },
          "execution_count": 56
        }
      ]
    },
    {
      "cell_type": "markdown",
      "metadata": {
        "id": "xtV_FAiJUMD4"
      },
      "source": [
        "We will learn more about `loc` in the next section. Specifically, we will come to understand how using `loc` enables us to access a `DataFrame` directly in order to modify it."
      ]
    },
    {
      "cell_type": "markdown",
      "metadata": {
        "id": "4_aCEXgSrfxa"
      },
      "source": [
        "#### Modifying Values\n",
        "\n",
        "There are many ways to modify values in a `DataFrame`. We'll look at a few of the more straightforward ways in this section."
      ]
    },
    {
      "cell_type": "markdown",
      "metadata": {
        "id": "tuL-wDyIWeZD"
      },
      "source": [
        "##### Modifying Individual Values\n",
        "\n",
        "The easiest way to modify a single value in a `DataFrame` is to directly index it on the left-hand sign of an expression.\n",
        "\n",
        "Let's say the Seattle area got a new commercial airport called Paine Field. If we want to increment the number of airports for Seattle, we could access the Seattle airport count directly and modify it:"
      ]
    },
    {
      "cell_type": "code",
      "metadata": {
        "id": "T2uZqM9ZsXsR",
        "colab": {
          "base_uri": "https://localhost:8080/",
          "height": 266
        },
        "outputId": "a76bda9e-9ed1-4b96-8897-4f8bb0e65dcc"
      },
      "source": [
        "city_names = pd.Series(['Atlanta', 'Austin', 'Kansas City', 'New York City', \n",
        "                        'Portland', 'San Francisco', 'Seattle'])\n",
        "population = pd.Series([498044, 964254, 491918, 8398748, 653115, 883305, 744955])\n",
        "num_airports = pd.Series([2, 2, 8, 3, 1, 3, 2])\n",
        "\n",
        "df = pd.DataFrame({\n",
        "  'City Name': city_names,\n",
        "  'Population': population, \n",
        "  'Airports': num_airports,\n",
        "})\n",
        "\n",
        "df.loc[6, 'Airports'] = 3\n",
        "df"
      ],
      "execution_count": null,
      "outputs": [
        {
          "output_type": "execute_result",
          "data": {
            "text/html": [
              "<div>\n",
              "<style scoped>\n",
              "    .dataframe tbody tr th:only-of-type {\n",
              "        vertical-align: middle;\n",
              "    }\n",
              "\n",
              "    .dataframe tbody tr th {\n",
              "        vertical-align: top;\n",
              "    }\n",
              "\n",
              "    .dataframe thead th {\n",
              "        text-align: right;\n",
              "    }\n",
              "</style>\n",
              "<table border=\"1\" class=\"dataframe\">\n",
              "  <thead>\n",
              "    <tr style=\"text-align: right;\">\n",
              "      <th></th>\n",
              "      <th>City Name</th>\n",
              "      <th>Population</th>\n",
              "      <th>Airports</th>\n",
              "    </tr>\n",
              "  </thead>\n",
              "  <tbody>\n",
              "    <tr>\n",
              "      <th>0</th>\n",
              "      <td>Atlanta</td>\n",
              "      <td>498044</td>\n",
              "      <td>2</td>\n",
              "    </tr>\n",
              "    <tr>\n",
              "      <th>1</th>\n",
              "      <td>Austin</td>\n",
              "      <td>964254</td>\n",
              "      <td>2</td>\n",
              "    </tr>\n",
              "    <tr>\n",
              "      <th>2</th>\n",
              "      <td>Kansas City</td>\n",
              "      <td>491918</td>\n",
              "      <td>8</td>\n",
              "    </tr>\n",
              "    <tr>\n",
              "      <th>3</th>\n",
              "      <td>New York City</td>\n",
              "      <td>8398748</td>\n",
              "      <td>3</td>\n",
              "    </tr>\n",
              "    <tr>\n",
              "      <th>4</th>\n",
              "      <td>Portland</td>\n",
              "      <td>653115</td>\n",
              "      <td>1</td>\n",
              "    </tr>\n",
              "    <tr>\n",
              "      <th>5</th>\n",
              "      <td>San Francisco</td>\n",
              "      <td>883305</td>\n",
              "      <td>3</td>\n",
              "    </tr>\n",
              "    <tr>\n",
              "      <th>6</th>\n",
              "      <td>Seattle</td>\n",
              "      <td>744955</td>\n",
              "      <td>3</td>\n",
              "    </tr>\n",
              "  </tbody>\n",
              "</table>\n",
              "</div>"
            ],
            "text/plain": [
              "       City Name  Population  Airports\n",
              "0        Atlanta      498044         2\n",
              "1         Austin      964254         2\n",
              "2    Kansas City      491918         8\n",
              "3  New York City     8398748         3\n",
              "4       Portland      653115         1\n",
              "5  San Francisco      883305         3\n",
              "6        Seattle      744955         3"
            ]
          },
          "metadata": {
            "tags": []
          },
          "execution_count": 57
        }
      ]
    },
    {
      "cell_type": "markdown",
      "metadata": {
        "id": "FD1SlNIzUtmQ"
      },
      "source": [
        "##### Modifying an Entire Column\n",
        "\n",
        "Modifying a single value is a great skill to have, especially when working with small numbers of  **outliers**. However, you'll often want to work with larger swaths of data.\n",
        "\n",
        "When would you want to do this?\n",
        "\n",
        "Consider the 'Population' column that we have been working with in this lab. It is integer-valued, however in some cases it might be better to work with the \"thousands\" value. For this we can do column-level modifications.\n",
        "\n",
        "In the example below we simply divide the population by 1,000."
      ]
    },
    {
      "cell_type": "code",
      "metadata": {
        "id": "ncU6tftLUzFz",
        "colab": {
          "base_uri": "https://localhost:8080/",
          "height": 266
        },
        "outputId": "be7f7403-3316-48c2-d49e-268ddc05df18"
      },
      "source": [
        "city_names = pd.Series(['Atlanta', 'Austin', 'Kansas City', 'New York City', \n",
        "                        'Portland', 'San Francisco', 'Seattle'])\n",
        "population = pd.Series([498044, 964254, 491918, 8398748, 653115, 883305, 744955])\n",
        "num_airports = pd.Series([2, 2, 8, 3, 1, 3, 2])\n",
        "\n",
        "df = pd.DataFrame({\n",
        "  'City Name': city_names,\n",
        "  'Population': population, \n",
        "  'Airports': num_airports,\n",
        "})\n",
        "\n",
        "df['Population'] /= 1000\n",
        "df"
      ],
      "execution_count": null,
      "outputs": [
        {
          "output_type": "execute_result",
          "data": {
            "text/html": [
              "<div>\n",
              "<style scoped>\n",
              "    .dataframe tbody tr th:only-of-type {\n",
              "        vertical-align: middle;\n",
              "    }\n",
              "\n",
              "    .dataframe tbody tr th {\n",
              "        vertical-align: top;\n",
              "    }\n",
              "\n",
              "    .dataframe thead th {\n",
              "        text-align: right;\n",
              "    }\n",
              "</style>\n",
              "<table border=\"1\" class=\"dataframe\">\n",
              "  <thead>\n",
              "    <tr style=\"text-align: right;\">\n",
              "      <th></th>\n",
              "      <th>City Name</th>\n",
              "      <th>Population</th>\n",
              "      <th>Airports</th>\n",
              "    </tr>\n",
              "  </thead>\n",
              "  <tbody>\n",
              "    <tr>\n",
              "      <th>0</th>\n",
              "      <td>Atlanta</td>\n",
              "      <td>498.044</td>\n",
              "      <td>2</td>\n",
              "    </tr>\n",
              "    <tr>\n",
              "      <th>1</th>\n",
              "      <td>Austin</td>\n",
              "      <td>964.254</td>\n",
              "      <td>2</td>\n",
              "    </tr>\n",
              "    <tr>\n",
              "      <th>2</th>\n",
              "      <td>Kansas City</td>\n",
              "      <td>491.918</td>\n",
              "      <td>8</td>\n",
              "    </tr>\n",
              "    <tr>\n",
              "      <th>3</th>\n",
              "      <td>New York City</td>\n",
              "      <td>8398.748</td>\n",
              "      <td>3</td>\n",
              "    </tr>\n",
              "    <tr>\n",
              "      <th>4</th>\n",
              "      <td>Portland</td>\n",
              "      <td>653.115</td>\n",
              "      <td>1</td>\n",
              "    </tr>\n",
              "    <tr>\n",
              "      <th>5</th>\n",
              "      <td>San Francisco</td>\n",
              "      <td>883.305</td>\n",
              "      <td>3</td>\n",
              "    </tr>\n",
              "    <tr>\n",
              "      <th>6</th>\n",
              "      <td>Seattle</td>\n",
              "      <td>744.955</td>\n",
              "      <td>2</td>\n",
              "    </tr>\n",
              "  </tbody>\n",
              "</table>\n",
              "</div>"
            ],
            "text/plain": [
              "       City Name  Population  Airports\n",
              "0        Atlanta     498.044         2\n",
              "1         Austin     964.254         2\n",
              "2    Kansas City     491.918         8\n",
              "3  New York City    8398.748         3\n",
              "4       Portland     653.115         1\n",
              "5  San Francisco     883.305         3\n",
              "6        Seattle     744.955         2"
            ]
          },
          "metadata": {
            "tags": []
          },
          "execution_count": 58
        }
      ]
    },
    {
      "cell_type": "markdown",
      "metadata": {
        "id": "tgzG63uPbJ5T"
      },
      "source": [
        "Instead of overwriting the existing column, you may instead want to create a new column. This can be done by assigning to a new column name:"
      ]
    },
    {
      "cell_type": "code",
      "metadata": {
        "id": "OhCE-9pPcFeL",
        "colab": {
          "base_uri": "https://localhost:8080/",
          "height": 266
        },
        "outputId": "befa548b-b562-4edf-c423-78df1edc3dda"
      },
      "source": [
        "city_names = pd.Series(['Atlanta', 'Austin', 'Kansas City', 'New York City', \n",
        "                        'Portland', 'San Francisco', 'Seattle'])\n",
        "population = pd.Series([498044, 964254, 491918, 8398748, 653115, 883305, 744955])\n",
        "num_airports = pd.Series([2, 2, 8, 3, 1, 3, 2])\n",
        "\n",
        "df = pd.DataFrame({\n",
        "  'City Name': city_names,\n",
        "  'Population': population, \n",
        "  'Airports': num_airports,\n",
        "})\n",
        "\n",
        "df['Population_M'] = df['Population'] / 1000\n",
        "df"
      ],
      "execution_count": null,
      "outputs": [
        {
          "output_type": "execute_result",
          "data": {
            "text/html": [
              "<div>\n",
              "<style scoped>\n",
              "    .dataframe tbody tr th:only-of-type {\n",
              "        vertical-align: middle;\n",
              "    }\n",
              "\n",
              "    .dataframe tbody tr th {\n",
              "        vertical-align: top;\n",
              "    }\n",
              "\n",
              "    .dataframe thead th {\n",
              "        text-align: right;\n",
              "    }\n",
              "</style>\n",
              "<table border=\"1\" class=\"dataframe\">\n",
              "  <thead>\n",
              "    <tr style=\"text-align: right;\">\n",
              "      <th></th>\n",
              "      <th>City Name</th>\n",
              "      <th>Population</th>\n",
              "      <th>Airports</th>\n",
              "      <th>Population_M</th>\n",
              "    </tr>\n",
              "  </thead>\n",
              "  <tbody>\n",
              "    <tr>\n",
              "      <th>0</th>\n",
              "      <td>Atlanta</td>\n",
              "      <td>498044</td>\n",
              "      <td>2</td>\n",
              "      <td>498.044</td>\n",
              "    </tr>\n",
              "    <tr>\n",
              "      <th>1</th>\n",
              "      <td>Austin</td>\n",
              "      <td>964254</td>\n",
              "      <td>2</td>\n",
              "      <td>964.254</td>\n",
              "    </tr>\n",
              "    <tr>\n",
              "      <th>2</th>\n",
              "      <td>Kansas City</td>\n",
              "      <td>491918</td>\n",
              "      <td>8</td>\n",
              "      <td>491.918</td>\n",
              "    </tr>\n",
              "    <tr>\n",
              "      <th>3</th>\n",
              "      <td>New York City</td>\n",
              "      <td>8398748</td>\n",
              "      <td>3</td>\n",
              "      <td>8398.748</td>\n",
              "    </tr>\n",
              "    <tr>\n",
              "      <th>4</th>\n",
              "      <td>Portland</td>\n",
              "      <td>653115</td>\n",
              "      <td>1</td>\n",
              "      <td>653.115</td>\n",
              "    </tr>\n",
              "    <tr>\n",
              "      <th>5</th>\n",
              "      <td>San Francisco</td>\n",
              "      <td>883305</td>\n",
              "      <td>3</td>\n",
              "      <td>883.305</td>\n",
              "    </tr>\n",
              "    <tr>\n",
              "      <th>6</th>\n",
              "      <td>Seattle</td>\n",
              "      <td>744955</td>\n",
              "      <td>2</td>\n",
              "      <td>744.955</td>\n",
              "    </tr>\n",
              "  </tbody>\n",
              "</table>\n",
              "</div>"
            ],
            "text/plain": [
              "       City Name  Population  Airports  Population_M\n",
              "0        Atlanta      498044         2       498.044\n",
              "1         Austin      964254         2       964.254\n",
              "2    Kansas City      491918         8       491.918\n",
              "3  New York City     8398748         3      8398.748\n",
              "4       Portland      653115         1       653.115\n",
              "5  San Francisco      883305         3       883.305\n",
              "6        Seattle      744955         2       744.955"
            ]
          },
          "metadata": {
            "tags": []
          },
          "execution_count": 59
        }
      ]
    },
    {
      "cell_type": "markdown",
      "metadata": {
        "id": "5wIgLlZlW1h_"
      },
      "source": [
        "### Fetching Data"
      ]
    },
    {
      "cell_type": "markdown",
      "metadata": {
        "id": "7fCcGyteW6jx"
      },
      "source": [
        "\n",
        "So far we have created the data that we have worked with from scratch. In reality, we'll load our data from a file system, the internet, a database, or one of many other sources.\n",
        "\n",
        "Throughout this course, we'll load data in many ways. Let's start by loading the data from the internet directly.\n",
        "\n",
        "For this, we'll use the Pandas method `read_csv`. This method can read comma-separated data from a URL. See an example below:"
      ]
    },
    {
      "cell_type": "code",
      "metadata": {
        "id": "yAcjA1sEXzNQ",
        "colab": {
          "base_uri": "https://localhost:8080/",
          "height": 439
        },
        "outputId": "bd41400e-67d6-446a-dab4-53c3bc074a4f"
      },
      "source": [
        "url = \"https://download.mlcc.google.com/mledu-datasets/california_housing_train.csv\"\n",
        "california_housing_dataframe = pd.read_csv(url)\n",
        "california_housing_dataframe"
      ],
      "execution_count": null,
      "outputs": [
        {
          "output_type": "execute_result",
          "data": {
            "text/html": [
              "<div>\n",
              "<style scoped>\n",
              "    .dataframe tbody tr th:only-of-type {\n",
              "        vertical-align: middle;\n",
              "    }\n",
              "\n",
              "    .dataframe tbody tr th {\n",
              "        vertical-align: top;\n",
              "    }\n",
              "\n",
              "    .dataframe thead th {\n",
              "        text-align: right;\n",
              "    }\n",
              "</style>\n",
              "<table border=\"1\" class=\"dataframe\">\n",
              "  <thead>\n",
              "    <tr style=\"text-align: right;\">\n",
              "      <th></th>\n",
              "      <th>longitude</th>\n",
              "      <th>latitude</th>\n",
              "      <th>housing_median_age</th>\n",
              "      <th>total_rooms</th>\n",
              "      <th>total_bedrooms</th>\n",
              "      <th>population</th>\n",
              "      <th>households</th>\n",
              "      <th>median_income</th>\n",
              "      <th>median_house_value</th>\n",
              "    </tr>\n",
              "  </thead>\n",
              "  <tbody>\n",
              "    <tr>\n",
              "      <th>0</th>\n",
              "      <td>-114.31</td>\n",
              "      <td>34.19</td>\n",
              "      <td>15.0</td>\n",
              "      <td>5612.0</td>\n",
              "      <td>1283.0</td>\n",
              "      <td>1015.0</td>\n",
              "      <td>472.0</td>\n",
              "      <td>1.4936</td>\n",
              "      <td>66900.0</td>\n",
              "    </tr>\n",
              "    <tr>\n",
              "      <th>1</th>\n",
              "      <td>-114.47</td>\n",
              "      <td>34.40</td>\n",
              "      <td>19.0</td>\n",
              "      <td>7650.0</td>\n",
              "      <td>1901.0</td>\n",
              "      <td>1129.0</td>\n",
              "      <td>463.0</td>\n",
              "      <td>1.8200</td>\n",
              "      <td>80100.0</td>\n",
              "    </tr>\n",
              "    <tr>\n",
              "      <th>2</th>\n",
              "      <td>-114.56</td>\n",
              "      <td>33.69</td>\n",
              "      <td>17.0</td>\n",
              "      <td>720.0</td>\n",
              "      <td>174.0</td>\n",
              "      <td>333.0</td>\n",
              "      <td>117.0</td>\n",
              "      <td>1.6509</td>\n",
              "      <td>85700.0</td>\n",
              "    </tr>\n",
              "    <tr>\n",
              "      <th>3</th>\n",
              "      <td>-114.57</td>\n",
              "      <td>33.64</td>\n",
              "      <td>14.0</td>\n",
              "      <td>1501.0</td>\n",
              "      <td>337.0</td>\n",
              "      <td>515.0</td>\n",
              "      <td>226.0</td>\n",
              "      <td>3.1917</td>\n",
              "      <td>73400.0</td>\n",
              "    </tr>\n",
              "    <tr>\n",
              "      <th>4</th>\n",
              "      <td>-114.57</td>\n",
              "      <td>33.57</td>\n",
              "      <td>20.0</td>\n",
              "      <td>1454.0</td>\n",
              "      <td>326.0</td>\n",
              "      <td>624.0</td>\n",
              "      <td>262.0</td>\n",
              "      <td>1.9250</td>\n",
              "      <td>65500.0</td>\n",
              "    </tr>\n",
              "    <tr>\n",
              "      <th>...</th>\n",
              "      <td>...</td>\n",
              "      <td>...</td>\n",
              "      <td>...</td>\n",
              "      <td>...</td>\n",
              "      <td>...</td>\n",
              "      <td>...</td>\n",
              "      <td>...</td>\n",
              "      <td>...</td>\n",
              "      <td>...</td>\n",
              "    </tr>\n",
              "    <tr>\n",
              "      <th>16995</th>\n",
              "      <td>-124.26</td>\n",
              "      <td>40.58</td>\n",
              "      <td>52.0</td>\n",
              "      <td>2217.0</td>\n",
              "      <td>394.0</td>\n",
              "      <td>907.0</td>\n",
              "      <td>369.0</td>\n",
              "      <td>2.3571</td>\n",
              "      <td>111400.0</td>\n",
              "    </tr>\n",
              "    <tr>\n",
              "      <th>16996</th>\n",
              "      <td>-124.27</td>\n",
              "      <td>40.69</td>\n",
              "      <td>36.0</td>\n",
              "      <td>2349.0</td>\n",
              "      <td>528.0</td>\n",
              "      <td>1194.0</td>\n",
              "      <td>465.0</td>\n",
              "      <td>2.5179</td>\n",
              "      <td>79000.0</td>\n",
              "    </tr>\n",
              "    <tr>\n",
              "      <th>16997</th>\n",
              "      <td>-124.30</td>\n",
              "      <td>41.84</td>\n",
              "      <td>17.0</td>\n",
              "      <td>2677.0</td>\n",
              "      <td>531.0</td>\n",
              "      <td>1244.0</td>\n",
              "      <td>456.0</td>\n",
              "      <td>3.0313</td>\n",
              "      <td>103600.0</td>\n",
              "    </tr>\n",
              "    <tr>\n",
              "      <th>16998</th>\n",
              "      <td>-124.30</td>\n",
              "      <td>41.80</td>\n",
              "      <td>19.0</td>\n",
              "      <td>2672.0</td>\n",
              "      <td>552.0</td>\n",
              "      <td>1298.0</td>\n",
              "      <td>478.0</td>\n",
              "      <td>1.9797</td>\n",
              "      <td>85800.0</td>\n",
              "    </tr>\n",
              "    <tr>\n",
              "      <th>16999</th>\n",
              "      <td>-124.35</td>\n",
              "      <td>40.54</td>\n",
              "      <td>52.0</td>\n",
              "      <td>1820.0</td>\n",
              "      <td>300.0</td>\n",
              "      <td>806.0</td>\n",
              "      <td>270.0</td>\n",
              "      <td>3.0147</td>\n",
              "      <td>94600.0</td>\n",
              "    </tr>\n",
              "  </tbody>\n",
              "</table>\n",
              "<p>17000 rows × 9 columns</p>\n",
              "</div>"
            ],
            "text/plain": [
              "       longitude  latitude  ...  median_income  median_house_value\n",
              "0        -114.31     34.19  ...         1.4936             66900.0\n",
              "1        -114.47     34.40  ...         1.8200             80100.0\n",
              "2        -114.56     33.69  ...         1.6509             85700.0\n",
              "3        -114.57     33.64  ...         3.1917             73400.0\n",
              "4        -114.57     33.57  ...         1.9250             65500.0\n",
              "...          ...       ...  ...            ...                 ...\n",
              "16995    -124.26     40.58  ...         2.3571            111400.0\n",
              "16996    -124.27     40.69  ...         2.5179             79000.0\n",
              "16997    -124.30     41.84  ...         3.0313            103600.0\n",
              "16998    -124.30     41.80  ...         1.9797             85800.0\n",
              "16999    -124.35     40.54  ...         3.0147             94600.0\n",
              "\n",
              "[17000 rows x 9 columns]"
            ]
          },
          "metadata": {
            "tags": []
          },
          "execution_count": 60
        }
      ]
    },
    {
      "cell_type": "markdown",
      "metadata": {
        "id": "8QEbef-5X26x"
      },
      "source": [
        "We now have a `DataFrame` full of data about housing prices in California. This is a classic dataset that we'll look at more closely in future labs. For now, we'll load it in and try to get an understanding of the data."
      ]
    },
    {
      "cell_type": "markdown",
      "metadata": {
        "id": "fMlB8JM-Eggv"
      },
      "source": [
        "## Exercise 5: Exploring Data\n",
        "\n",
        "In this exercise we will write code to explore the California housing dataset mentioned earlier in this lab. As seen previously, we can load the data using the following code:"
      ]
    },
    {
      "cell_type": "code",
      "metadata": {
        "id": "cs5Zny9dE2S5",
        "colab": {
          "base_uri": "https://localhost:8080/",
          "height": 439
        },
        "outputId": "992284ea-9653-4cf0-b6e8-1d47bd7f4b53"
      },
      "source": [
        "url = \"https://download.mlcc.google.com/mledu-datasets/california_housing_train.csv\"\n",
        "california_housing_df = pd.read_csv(url)\n",
        "california_housing_df"
      ],
      "execution_count": null,
      "outputs": [
        {
          "output_type": "execute_result",
          "data": {
            "text/html": [
              "<div>\n",
              "<style scoped>\n",
              "    .dataframe tbody tr th:only-of-type {\n",
              "        vertical-align: middle;\n",
              "    }\n",
              "\n",
              "    .dataframe tbody tr th {\n",
              "        vertical-align: top;\n",
              "    }\n",
              "\n",
              "    .dataframe thead th {\n",
              "        text-align: right;\n",
              "    }\n",
              "</style>\n",
              "<table border=\"1\" class=\"dataframe\">\n",
              "  <thead>\n",
              "    <tr style=\"text-align: right;\">\n",
              "      <th></th>\n",
              "      <th>longitude</th>\n",
              "      <th>latitude</th>\n",
              "      <th>housing_median_age</th>\n",
              "      <th>total_rooms</th>\n",
              "      <th>total_bedrooms</th>\n",
              "      <th>population</th>\n",
              "      <th>households</th>\n",
              "      <th>median_income</th>\n",
              "      <th>median_house_value</th>\n",
              "    </tr>\n",
              "  </thead>\n",
              "  <tbody>\n",
              "    <tr>\n",
              "      <th>0</th>\n",
              "      <td>-114.31</td>\n",
              "      <td>34.19</td>\n",
              "      <td>15.0</td>\n",
              "      <td>5612.0</td>\n",
              "      <td>1283.0</td>\n",
              "      <td>1015.0</td>\n",
              "      <td>472.0</td>\n",
              "      <td>1.4936</td>\n",
              "      <td>66900.0</td>\n",
              "    </tr>\n",
              "    <tr>\n",
              "      <th>1</th>\n",
              "      <td>-114.47</td>\n",
              "      <td>34.40</td>\n",
              "      <td>19.0</td>\n",
              "      <td>7650.0</td>\n",
              "      <td>1901.0</td>\n",
              "      <td>1129.0</td>\n",
              "      <td>463.0</td>\n",
              "      <td>1.8200</td>\n",
              "      <td>80100.0</td>\n",
              "    </tr>\n",
              "    <tr>\n",
              "      <th>2</th>\n",
              "      <td>-114.56</td>\n",
              "      <td>33.69</td>\n",
              "      <td>17.0</td>\n",
              "      <td>720.0</td>\n",
              "      <td>174.0</td>\n",
              "      <td>333.0</td>\n",
              "      <td>117.0</td>\n",
              "      <td>1.6509</td>\n",
              "      <td>85700.0</td>\n",
              "    </tr>\n",
              "    <tr>\n",
              "      <th>3</th>\n",
              "      <td>-114.57</td>\n",
              "      <td>33.64</td>\n",
              "      <td>14.0</td>\n",
              "      <td>1501.0</td>\n",
              "      <td>337.0</td>\n",
              "      <td>515.0</td>\n",
              "      <td>226.0</td>\n",
              "      <td>3.1917</td>\n",
              "      <td>73400.0</td>\n",
              "    </tr>\n",
              "    <tr>\n",
              "      <th>4</th>\n",
              "      <td>-114.57</td>\n",
              "      <td>33.57</td>\n",
              "      <td>20.0</td>\n",
              "      <td>1454.0</td>\n",
              "      <td>326.0</td>\n",
              "      <td>624.0</td>\n",
              "      <td>262.0</td>\n",
              "      <td>1.9250</td>\n",
              "      <td>65500.0</td>\n",
              "    </tr>\n",
              "    <tr>\n",
              "      <th>...</th>\n",
              "      <td>...</td>\n",
              "      <td>...</td>\n",
              "      <td>...</td>\n",
              "      <td>...</td>\n",
              "      <td>...</td>\n",
              "      <td>...</td>\n",
              "      <td>...</td>\n",
              "      <td>...</td>\n",
              "      <td>...</td>\n",
              "    </tr>\n",
              "    <tr>\n",
              "      <th>16995</th>\n",
              "      <td>-124.26</td>\n",
              "      <td>40.58</td>\n",
              "      <td>52.0</td>\n",
              "      <td>2217.0</td>\n",
              "      <td>394.0</td>\n",
              "      <td>907.0</td>\n",
              "      <td>369.0</td>\n",
              "      <td>2.3571</td>\n",
              "      <td>111400.0</td>\n",
              "    </tr>\n",
              "    <tr>\n",
              "      <th>16996</th>\n",
              "      <td>-124.27</td>\n",
              "      <td>40.69</td>\n",
              "      <td>36.0</td>\n",
              "      <td>2349.0</td>\n",
              "      <td>528.0</td>\n",
              "      <td>1194.0</td>\n",
              "      <td>465.0</td>\n",
              "      <td>2.5179</td>\n",
              "      <td>79000.0</td>\n",
              "    </tr>\n",
              "    <tr>\n",
              "      <th>16997</th>\n",
              "      <td>-124.30</td>\n",
              "      <td>41.84</td>\n",
              "      <td>17.0</td>\n",
              "      <td>2677.0</td>\n",
              "      <td>531.0</td>\n",
              "      <td>1244.0</td>\n",
              "      <td>456.0</td>\n",
              "      <td>3.0313</td>\n",
              "      <td>103600.0</td>\n",
              "    </tr>\n",
              "    <tr>\n",
              "      <th>16998</th>\n",
              "      <td>-124.30</td>\n",
              "      <td>41.80</td>\n",
              "      <td>19.0</td>\n",
              "      <td>2672.0</td>\n",
              "      <td>552.0</td>\n",
              "      <td>1298.0</td>\n",
              "      <td>478.0</td>\n",
              "      <td>1.9797</td>\n",
              "      <td>85800.0</td>\n",
              "    </tr>\n",
              "    <tr>\n",
              "      <th>16999</th>\n",
              "      <td>-124.35</td>\n",
              "      <td>40.54</td>\n",
              "      <td>52.0</td>\n",
              "      <td>1820.0</td>\n",
              "      <td>300.0</td>\n",
              "      <td>806.0</td>\n",
              "      <td>270.0</td>\n",
              "      <td>3.0147</td>\n",
              "      <td>94600.0</td>\n",
              "    </tr>\n",
              "  </tbody>\n",
              "</table>\n",
              "<p>17000 rows × 9 columns</p>\n",
              "</div>"
            ],
            "text/plain": [
              "       longitude  latitude  ...  median_income  median_house_value\n",
              "0        -114.31     34.19  ...         1.4936             66900.0\n",
              "1        -114.47     34.40  ...         1.8200             80100.0\n",
              "2        -114.56     33.69  ...         1.6509             85700.0\n",
              "3        -114.57     33.64  ...         3.1917             73400.0\n",
              "4        -114.57     33.57  ...         1.9250             65500.0\n",
              "...          ...       ...  ...            ...                 ...\n",
              "16995    -124.26     40.58  ...         2.3571            111400.0\n",
              "16996    -124.27     40.69  ...         2.5179             79000.0\n",
              "16997    -124.30     41.84  ...         3.0313            103600.0\n",
              "16998    -124.30     41.80  ...         1.9797             85800.0\n",
              "16999    -124.35     40.54  ...         3.0147             94600.0\n",
              "\n",
              "[17000 rows x 9 columns]"
            ]
          },
          "metadata": {
            "tags": []
          },
          "execution_count": 61
        }
      ]
    },
    {
      "cell_type": "markdown",
      "metadata": {
        "id": "FU2N1NDEdXb_"
      },
      "source": [
        "### Question 1: Histograms\n",
        "\n",
        "This question will have two parts: one coding and one data analysis.\n",
        "\n",
        "#### Question 1.1: Display Histograms\n",
        "\n",
        "Write the code to display histograms for all numeric columns in the `california_housing_df` object.\n",
        "\n",
        "**Student Solution**"
      ]
    },
    {
      "cell_type": "code",
      "metadata": {
        "id": "VESvrqqEd845"
      },
      "source": [
        "# Your Code Goes Here\n"
      ],
      "execution_count": 5,
      "outputs": []
    },
    {
      "cell_type": "markdown",
      "metadata": {
        "id": "JvUQhwWsDx2S"
      },
      "source": [
        "---"
      ]
    },
    {
      "cell_type": "markdown",
      "metadata": {
        "id": "PHDDgUJteHY2"
      },
      "source": [
        "#### Question 1.2: Histogram Analysis\n",
        "\n",
        "Two of the histograms have two strong peaks rather than one. Which columns are these? What do you think this tells us about the data?"
      ]
    },
    {
      "cell_type": "markdown",
      "metadata": {
        "id": "H5SCdTyaFW_q"
      },
      "source": [
        "**Student Solution**"
      ]
    },
    {
      "cell_type": "markdown",
      "metadata": {
        "id": "EwzTPaISebrx"
      },
      "source": [
        "What are the names of the two columns with two strong peaks each?\n",
        "1. *Median Income*\n",
        "1. *Median House Value*\n",
        "\n",
        "What insights do you gather from the columns with dual peaks?:\n",
        "* *in Median Income is have two outlier. such that all other are very close to zero in comparison and in Median House Value there are not only two ouliers but also three outliers*"
      ]
    },
    {
      "cell_type": "markdown",
      "metadata": {
        "id": "MoAz4DxUEy_-"
      },
      "source": [
        "---"
      ]
    },
    {
      "cell_type": "markdown",
      "metadata": {
        "id": "mCBkUlYvfj0X"
      },
      "source": [
        "### Question 2: Ordering\n",
        "\n",
        "Does there seem to be any obvious ordering to the data? If so, what is the ordering? Show the code that you used to determine your answer.\n"
      ]
    },
    {
      "cell_type": "markdown",
      "metadata": {
        "id": "sdgWRcYYfsGg"
      },
      "source": [
        "**Student Solution**"
      ]
    },
    {
      "cell_type": "markdown",
      "metadata": {
        "id": "rgZpIOT7fufN"
      },
      "source": [
        "Is there any ordering?\n",
        "* *(Yes/No)*\n",
        "\n",
        "If there was ordering, what columns were sorted and in what order (ascending/descending)?:\n",
        "* **\n",
        "\n"
      ]
    },
    {
      "cell_type": "markdown",
      "metadata": {
        "id": "6JbbqruzgHWJ"
      },
      "source": [
        "What code did you use to determine the answer?"
      ]
    },
    {
      "cell_type": "code",
      "metadata": {
        "id": "gABo8DFVfttD"
      },
      "source": [
        "# Your code goes here\n"
      ],
      "execution_count": 6,
      "outputs": []
    },
    {
      "cell_type": "markdown",
      "metadata": {
        "id": "EOU9lI8yhDC-"
      },
      "source": [
        "---"
      ]
    },
    {
      "cell_type": "markdown",
      "metadata": {
        "id": "KhYviOYIhGNy"
      },
      "source": [
        "## Exercise 6: Creating a New Column\n",
        "\n",
        "Create a new column in `california_housing_df` called `persons_per_bedroom` that is the ratio of `population` to `total_bedrooms`."
      ]
    },
    {
      "cell_type": "markdown",
      "metadata": {
        "id": "ymqzKjJDh9zg"
      },
      "source": [
        "**Student Solution**"
      ]
    },
    {
      "cell_type": "code",
      "metadata": {
        "id": "qSjv3cwZh55t"
      },
      "source": [
        "\n",
        "# Your Code Goes Here"
      ],
      "execution_count": 7,
      "outputs": []
    },
    {
      "cell_type": "markdown",
      "metadata": {
        "id": "tfT14I7kGxJT"
      },
      "source": [
        "---"
      ]
    }
  ]
}